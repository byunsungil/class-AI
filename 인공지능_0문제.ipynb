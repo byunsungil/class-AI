{
  "nbformat": 4,
  "nbformat_minor": 0,
  "metadata": {
    "colab": {
      "provenance": [],
      "include_colab_link": true
    },
    "kernelspec": {
      "name": "python3",
      "display_name": "Python 3"
    },
    "language_info": {
      "name": "python"
    }
  },
  "cells": [
    {
      "cell_type": "markdown",
      "metadata": {
        "id": "view-in-github",
        "colab_type": "text"
      },
      "source": [
        "<a href=\"https://colab.research.google.com/github/byunsungil/AI01/blob/main/%EC%9D%B8%EA%B3%B5%EC%A7%80%EB%8A%A5_0%EB%AC%B8%EC%A0%9C.ipynb\" target=\"_parent\"><img src=\"https://colab.research.google.com/assets/colab-badge.svg\" alt=\"Open In Colab\"/></a>"
      ]
    },
    {
      "cell_type": "markdown",
      "source": [
        "##name과 age 변수를 만들어 print와 format을 활용해 name 변수에는 이름, age변수에는 나이를 입력해 결과를 프린트 하시오"
      ],
      "metadata": {
        "id": "7R5RuZ9ov_FA"
      }
    },
    {
      "cell_type": "code",
      "execution_count": null,
      "metadata": {
        "id": "yEcyYjukdfLX",
        "colab": {
          "base_uri": "https://localhost:8080/"
        },
        "outputId": "d0aff026-2a23-4589-bf3e-b8a4fab8fda4"
      },
      "outputs": [
        {
          "name": "stdout",
          "output_type": "stream",
          "text": [
            "변성일\n",
            "25\n"
          ]
        }
      ],
      "source": [
        "name=input()\n",
        "age=int(input())\n"
      ]
    },
    {
      "cell_type": "code",
      "source": [
        "print((\"이름 : {}, 나이 : {}\").format(name, age))"
      ],
      "metadata": {
        "id": "lbAiXR_bkS1r",
        "colab": {
          "base_uri": "https://localhost:8080/"
        },
        "outputId": "13ef9699-0ba2-46ca-d1bb-ae051516688a"
      },
      "execution_count": null,
      "outputs": [
        {
          "output_type": "stream",
          "name": "stdout",
          "text": [
            "이름 : 변성일, 나이 : 25\n"
          ]
        }
      ]
    },
    {
      "cell_type": "markdown",
      "source": [
        "##1단 부터 9단까지 구구단을 만드시오"
      ],
      "metadata": {
        "id": "-FbiR7FjU4hm"
      }
    },
    {
      "cell_type": "code",
      "source": [
        "for i in range(1,10):\n",
        "  for j in range(1,10):\n",
        "    print(\"{} * {} = {}\".format(i,j,i*j))"
      ],
      "metadata": {
        "colab": {
          "base_uri": "https://localhost:8080/"
        },
        "id": "79Ofe_ZGkcvR",
        "outputId": "9147df5e-ed0e-4cdd-e106-1946fe51895c"
      },
      "execution_count": null,
      "outputs": [
        {
          "output_type": "stream",
          "name": "stdout",
          "text": [
            "1 * 1 = 1\n",
            "1 * 2 = 2\n",
            "1 * 3 = 3\n",
            "1 * 4 = 4\n",
            "1 * 5 = 5\n",
            "1 * 6 = 6\n",
            "1 * 7 = 7\n",
            "1 * 8 = 8\n",
            "1 * 9 = 9\n",
            "2 * 1 = 2\n",
            "2 * 2 = 4\n",
            "2 * 3 = 6\n",
            "2 * 4 = 8\n",
            "2 * 5 = 10\n",
            "2 * 6 = 12\n",
            "2 * 7 = 14\n",
            "2 * 8 = 16\n",
            "2 * 9 = 18\n",
            "3 * 1 = 3\n",
            "3 * 2 = 6\n",
            "3 * 3 = 9\n",
            "3 * 4 = 12\n",
            "3 * 5 = 15\n",
            "3 * 6 = 18\n",
            "3 * 7 = 21\n",
            "3 * 8 = 24\n",
            "3 * 9 = 27\n",
            "4 * 1 = 4\n",
            "4 * 2 = 8\n",
            "4 * 3 = 12\n",
            "4 * 4 = 16\n",
            "4 * 5 = 20\n",
            "4 * 6 = 24\n",
            "4 * 7 = 28\n",
            "4 * 8 = 32\n",
            "4 * 9 = 36\n",
            "5 * 1 = 5\n",
            "5 * 2 = 10\n",
            "5 * 3 = 15\n",
            "5 * 4 = 20\n",
            "5 * 5 = 25\n",
            "5 * 6 = 30\n",
            "5 * 7 = 35\n",
            "5 * 8 = 40\n",
            "5 * 9 = 45\n",
            "6 * 1 = 6\n",
            "6 * 2 = 12\n",
            "6 * 3 = 18\n",
            "6 * 4 = 24\n",
            "6 * 5 = 30\n",
            "6 * 6 = 36\n",
            "6 * 7 = 42\n",
            "6 * 8 = 48\n",
            "6 * 9 = 54\n",
            "7 * 1 = 7\n",
            "7 * 2 = 14\n",
            "7 * 3 = 21\n",
            "7 * 4 = 28\n",
            "7 * 5 = 35\n",
            "7 * 6 = 42\n",
            "7 * 7 = 49\n",
            "7 * 8 = 56\n",
            "7 * 9 = 63\n",
            "8 * 1 = 8\n",
            "8 * 2 = 16\n",
            "8 * 3 = 24\n",
            "8 * 4 = 32\n",
            "8 * 5 = 40\n",
            "8 * 6 = 48\n",
            "8 * 7 = 56\n",
            "8 * 8 = 64\n",
            "8 * 9 = 72\n",
            "9 * 1 = 9\n",
            "9 * 2 = 18\n",
            "9 * 3 = 27\n",
            "9 * 4 = 36\n",
            "9 * 5 = 45\n",
            "9 * 6 = 54\n",
            "9 * 7 = 63\n",
            "9 * 8 = 72\n",
            "9 * 9 = 81\n"
          ]
        }
      ]
    },
    {
      "cell_type": "markdown",
      "source": [
        "##exam=[60,80,95,69,90,81,80,69,79,66,70,90,96]을 리스트로 변환하고 90점 이상 A 80점 이상 90점 미만B, 70점 이상 80점 미만을 C 60점 이상 70점 미만은 D 이외는 F로 아래와 같이 나타내시오"
      ],
      "metadata": {
        "id": "fP15Ya3WVC4k"
      }
    },
    {
      "cell_type": "code",
      "source": [
        "exam=[60,80,95,69,90,81,80,69,79,66,70,90,96]"
      ],
      "metadata": {
        "id": "VXrKw-tikbgJ"
      },
      "execution_count": null,
      "outputs": []
    },
    {
      "cell_type": "code",
      "source": [
        "for i in exam:\n",
        "  if i >= 90:\n",
        "    print(\"A\")\n",
        "  elif i >= 80:\n",
        "      print(\"B\")\n",
        "  elif i >=70:\n",
        "        print(\"C\")\n",
        "  elif i >=60:\n",
        "          print(\"D\")\n",
        "  else:\n",
        "            print(\"F\")\n"
      ],
      "metadata": {
        "id": "zEnlW3z0Vj6t",
        "colab": {
          "base_uri": "https://localhost:8080/"
        },
        "outputId": "73015471-c0de-4f64-cac2-82542fc9a648"
      },
      "execution_count": null,
      "outputs": [
        {
          "output_type": "stream",
          "name": "stdout",
          "text": [
            "D\n",
            "B\n",
            "A\n",
            "D\n",
            "A\n",
            "B\n",
            "B\n",
            "D\n",
            "C\n",
            "D\n",
            "C\n",
            "A\n",
            "A\n"
          ]
        }
      ]
    },
    {
      "cell_type": "code",
      "source": [],
      "metadata": {
        "id": "IzAMVjDpVjx9"
      },
      "execution_count": null,
      "outputs": []
    },
    {
      "cell_type": "markdown",
      "source": [
        "##중국집에서 주문을 한다. 짜장면 한그릇은 10,000원 이다. 입력 금액이 짜장면 한 그릇보다 많으면 구매가능 아니면 구매 불가능으로 나타내시오"
      ],
      "metadata": {
        "id": "mj-ZoI-bVHPN"
      }
    },
    {
      "cell_type": "code",
      "source": [
        "order = int(input())\n",
        "if order > 10000:\n",
        "  print(\"구매가능\")\n",
        "else:\n",
        "  print(\"구매 불가능\")"
      ],
      "metadata": {
        "id": "vKwq2MvHVJx1",
        "colab": {
          "base_uri": "https://localhost:8080/"
        },
        "outputId": "2f539ce7-da70-40bc-8419-dbb56817c530"
      },
      "execution_count": null,
      "outputs": [
        {
          "output_type": "stream",
          "name": "stdout",
          "text": [
            "10001\n",
            "구매가능\n"
          ]
        }
      ]
    },
    {
      "cell_type": "markdown",
      "source": [
        "##중국집에서 주문을 한다. 짜장면 한그릇은 10,000원 이다. 입력 금액이 짜장면 한 그릇보다 많으면 구매가능 아니면 구매 불가능으로 나타내시오\n",
        "\n",
        "당신은 13000원이 있으므로 1개 구매가능"
      ],
      "metadata": {
        "id": "qlcSZbGtc0-t"
      }
    },
    {
      "cell_type": "code",
      "source": [
        "order = int(input())\n",
        "if order > 10000:\n",
        "  print(\"당신은 {}원이 있으므로 {}개 구매가능\".format(order,order//10000))\n",
        "else:\n",
        "  print(\"구매 불가능\")"
      ],
      "metadata": {
        "id": "SKaunC62dID9",
        "colab": {
          "base_uri": "https://localhost:8080/"
        },
        "outputId": "10c3b433-6e82-4174-c80f-76f0cb616d38"
      },
      "execution_count": null,
      "outputs": [
        {
          "output_type": "stream",
          "name": "stdout",
          "text": [
            "13000\n",
            "당신은 13000원이 있으므로 1개 구매가능\n"
          ]
        }
      ]
    },
    {
      "cell_type": "markdown",
      "source": [
        "##저는 .. 학과이고 이름은 .. 저의 나이는 ... 이고 저의 키는 ...입니다."
      ],
      "metadata": {
        "id": "O1A0n_gadJSd"
      }
    },
    {
      "cell_type": "code",
      "source": [
        "a = input()\n",
        "b = input()\n",
        "c = int(input())\n",
        "d = int(input())\n",
        "print(f\"저는 {a}학과이고 이름은{b} 저의 나이는 {c}이고 저의 키는 {d} 입니다.\")"
      ],
      "metadata": {
        "id": "vKwIYszdeNbO",
        "colab": {
          "base_uri": "https://localhost:8080/"
        },
        "outputId": "0e6305b2-cc45-408a-804d-c87c1d709607"
      },
      "execution_count": null,
      "outputs": [
        {
          "output_type": "stream",
          "name": "stdout",
          "text": [
            "ai소프트웨어\n",
            "변성일\n",
            "25\n",
            "177\n",
            "저는 ai소프트웨어학과이고 이름은변성일 저의 나이는 25이고 저의 키는 177 입니다.\n"
          ]
        }
      ]
    },
    {
      "cell_type": "markdown",
      "source": [
        "##한 학생의 시험 점수는 다음과 같다. grades=[85, 90, 92, 78, 80, 95]이때 모든 점수의 합의 평균이 85점이 넘을때 시험에 합격했습니다.라는 문구를 넣어서 print해줘 "
      ],
      "metadata": {
        "id": "tIb5erX3gbW2"
      }
    },
    {
      "cell_type": "code",
      "source": [
        "grades=[85, 90, 92, 78, 80, 95]"
      ],
      "metadata": {
        "id": "pA190y-pDdUx"
      },
      "execution_count": null,
      "outputs": []
    },
    {
      "cell_type": "code",
      "source": [
        "aver = sum(grades)/6"
      ],
      "metadata": {
        "id": "L8cR8ecADfKX"
      },
      "execution_count": null,
      "outputs": []
    },
    {
      "cell_type": "code",
      "source": [
        "if aver > 85:\n",
        "  print(\"시험에 합격했습니다.\")\n",
        "else:\n",
        "  print(\"시험에 불합격했습니다.\")"
      ],
      "metadata": {
        "id": "6DuKRB2rDf4X",
        "colab": {
          "base_uri": "https://localhost:8080/"
        },
        "outputId": "b3de9754-7789-4578-973e-8e62ada8aab4"
      },
      "execution_count": null,
      "outputs": [
        {
          "output_type": "stream",
          "name": "stdout",
          "text": [
            "시험에 합격했습니다.\n"
          ]
        }
      ]
    },
    {
      "cell_type": "code",
      "source": [],
      "metadata": {
        "id": "Rd-BqkRoFAJI"
      },
      "execution_count": null,
      "outputs": []
    },
    {
      "cell_type": "code",
      "source": [],
      "metadata": {
        "id": "sLWdQlWP2fx9"
      },
      "execution_count": null,
      "outputs": []
    },
    {
      "cell_type": "code",
      "source": [],
      "metadata": {
        "id": "qkk5w4gjFBDA"
      },
      "execution_count": null,
      "outputs": []
    },
    {
      "cell_type": "code",
      "source": [],
      "metadata": {
        "id": "PCTH3gSi2dhk"
      },
      "execution_count": null,
      "outputs": []
    },
    {
      "cell_type": "code",
      "source": [],
      "metadata": {
        "id": "W8g21q-a2v-8"
      },
      "execution_count": null,
      "outputs": []
    }
  ]
}