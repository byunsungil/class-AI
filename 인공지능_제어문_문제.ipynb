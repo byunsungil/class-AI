{
  "nbformat": 4,
  "nbformat_minor": 0,
  "metadata": {
    "colab": {
      "provenance": [],
      "include_colab_link": true
    },
    "kernelspec": {
      "name": "python3",
      "display_name": "Python 3"
    },
    "language_info": {
      "name": "python"
    }
  },
  "cells": [
    {
      "cell_type": "markdown",
      "metadata": {
        "id": "view-in-github",
        "colab_type": "text"
      },
      "source": [
        "<a href=\"https://colab.research.google.com/github/byunsungil/AI01/blob/main/%EC%9D%B8%EA%B3%B5%EC%A7%80%EB%8A%A5_%EC%A0%9C%EC%96%B4%EB%AC%B8_%EB%AC%B8%EC%A0%9C.ipynb\" target=\"_parent\"><img src=\"https://colab.research.google.com/assets/colab-badge.svg\" alt=\"Open In Colab\"/></a>"
      ]
    },
    {
      "cell_type": "markdown",
      "source": [
        "## 100m 달리기 아래는 달리기 성적 기록이다. 이때 9초 이상 11초 미만 합격, 11초 이상 13초 미만 재시험, 13초 초과 불합격을 프린트하시오\n",
        "\n",
        "* input을 활용해 만들기\n",
        "* 9, 10, 11, 12, 15, 25, 13, 12, 9.5, 10.6, 11.2, 9.5"
      ],
      "metadata": {
        "id": "RxLgKtG8TXc8"
      }
    },
    {
      "cell_type": "code",
      "source": [
        "r = float(input())\n",
        "if r >=9 and r<11:\n",
        "  print(\"합격\")\n",
        "elif r >=11 and r<13:\n",
        "  print(\"재시험\")\n",
        "elif r >13:\n",
        "  print(\"불합격\")\n",
        "else:\n",
        "  print(\"시간을 입력해주세요\")"
      ],
      "metadata": {
        "colab": {
          "base_uri": "https://localhost:8080/"
        },
        "id": "cEZSQ47bTs1p",
        "outputId": "94ad0ced-aff0-4ae5-f2f9-71f0b492f7e9"
      },
      "execution_count": null,
      "outputs": [
        {
          "output_type": "stream",
          "name": "stdout",
          "text": [
            "12.5\n",
            "재시험\n"
          ]
        }
      ]
    },
    {
      "cell_type": "code",
      "source": [
        "run = [9,10,11,12,15,25,13,12,9.5,10.6,11.2,9.5]\n",
        "for i in run:\n",
        "  if i >=9 and i<11:\n",
        "    print(\"합격\")\n",
        "  elif i >=11 and i<13:\n",
        "    print(\"재시험\")\n",
        "  elif i >13:\n",
        "    print(\"불합격\")\n",
        "  else:\n",
        "    print(\"시간을 입력해주세요\")"
      ],
      "metadata": {
        "colab": {
          "base_uri": "https://localhost:8080/"
        },
        "id": "P0bSYTrbyP0v",
        "outputId": "3f1ee403-d6e2-4b63-9623-dcec7957858f"
      },
      "execution_count": null,
      "outputs": [
        {
          "output_type": "stream",
          "name": "stdout",
          "text": [
            "합격\n",
            "합격\n",
            "재시험\n",
            "재시험\n",
            "불합격\n",
            "불합격\n",
            "시간을 입력해주세요\n",
            "재시험\n",
            "합격\n",
            "합격\n",
            "재시험\n",
            "합격\n"
          ]
        }
      ]
    },
    {
      "cell_type": "code",
      "source": [],
      "metadata": {
        "colab": {
          "base_uri": "https://localhost:8080/"
        },
        "id": "TLcMHxRAVCLI",
        "outputId": "92615dad-4635-4d37-8a2b-5565fe9fbdfb"
      },
      "execution_count": null,
      "outputs": [
        {
          "output_type": "stream",
          "name": "stdout",
          "text": [
            "합격\n",
            "합격\n",
            "재시험\n",
            "재시험\n",
            "불합격\n",
            "불합격\n",
            "시간을 입력해주세요\n",
            "재시험\n",
            "합격\n",
            "합격\n",
            "재시험\n",
            "합격\n"
          ]
        }
      ]
    },
    {
      "cell_type": "markdown",
      "source": [
        "##짜장면 : 10,000원, 짬뽕 : 11,000원, 탕수육 22,000원, 볶음밥 : 9,000원을 딕셔너리 형태로 저장하고 메뉴 이름과 금액을 각각 다른 리스트에 저장해 두 개의 리스트로 만들어서 프린트하시오(for 문 사용)"
      ],
      "metadata": {
        "id": "O4tOdgJoG_78"
      }
    },
    {
      "cell_type": "code",
      "source": [
        "menu={\"짜장면\" : 10000, \"짬뽕\" : 11000, \"탕수육\" : 22000, \"볶음밥\" : 9000}\n",
        "\n",
        "a=[]\n",
        "b=[]\n",
        "for i,j in menu.items():\n",
        "  a.append(i)\n",
        "  b.append(j)\n",
        "\n",
        "print(a)\n",
        "print(b)"
      ],
      "metadata": {
        "colab": {
          "base_uri": "https://localhost:8080/"
        },
        "id": "Viyiy3qWHAPq",
        "outputId": "9bf20eec-d1a0-403a-fbd6-87d6af6a1a33"
      },
      "execution_count": null,
      "outputs": [
        {
          "output_type": "stream",
          "name": "stdout",
          "text": [
            "['짜장면', '짬뽕', '탕수육', '볶음밥']\n",
            "[10000, 11000, 22000, 9000]\n"
          ]
        }
      ]
    },
    {
      "cell_type": "markdown",
      "source": [
        "##10명의 학생이 있다 각 학생들은 중국집에서 한가지 메뉴를 주문 할 수 있다. 이때 위에서 만든 메뉴판을 활용해 각각 학생들이 한가지 메뉴를 입력하게 하고 메뉴들의 총 합을 더해서 프린트하시오(리스트를 활용해 문제해결)"
      ],
      "metadata": {
        "id": "akKsCOiQHSBr"
      }
    },
    {
      "cell_type": "code",
      "source": [
        "451total=[]\n",
        "for i in range(1,11):\n",
        "  c =  input((\"{}번 학생의 주문 :\").format(i))\n",
        "  if c == \"짜장면\":\n",
        "    total.append(b[0])\n",
        "  elif c == \"짬뽕\":\n",
        "    total.append(b[1])\n",
        "  elif c == \"탕수육\":\n",
        "    total.append(b[2])\n",
        "  elif c == \"볶음밥\":\n",
        "    total.append(b[3])\n",
        "  else:\n",
        "    print(\"잘못된 주문입니다\")\n",
        "\n",
        "print(sum(total))\n"
      ],
      "metadata": {
        "colab": {
          "base_uri": "https://localhost:8080/"
        },
        "id": "wFiQoBdBHJhE",
        "outputId": "da6538e5-d6a5-442a-e9eb-15dc1be9b995"
      },
      "execution_count": null,
      "outputs": [
        {
          "output_type": "stream",
          "name": "stdout",
          "text": [
            "1번 학생의 주문 :1\n",
            "잘못된 주문입니다\n",
            "2번 학생의 주문 :2\n",
            "3번 학생의 주문 :3\n",
            "잘못된 주문입니다\n",
            "잘못된 주문입니다\n",
            "4번 학생의 주문 :4\n",
            "잘못된 주문입니다\n",
            "5번 학생의 주문 :5\n",
            "잘못된 주문입니다\n",
            "6번 학생의 주문 :3\n",
            "잘못된 주문입니다\n",
            "7번 학생의 주문 :1\n",
            "잘못된 주문입니다\n",
            "8번 학생의 주문 :짜장면\n",
            "9번 학생의 주문 :4\n",
            "잘못된 주문입니다\n",
            "10번 학생의 주문 :13\n",
            "잘못된 주문입니다\n",
            "10000\n"
          ]
        }
      ]
    },
    {
      "cell_type": "markdown",
      "source": [],
      "metadata": {
        "id": "Kb4_fRwIKx6t"
      }
    },
    {
      "cell_type": "markdown",
      "source": [
        "##10명의 학생이 있다 각 학생들은 중국집에서 한가지 메뉴를 주문 할 수 있다. 이때 위에서 만든 메뉴판을 활용해 각각 학생들이 한가지 메뉴를 입력하게 하고 메뉴들의 총 합을 더해서 프린트하시오(딕셔러니를 활용해 문제 해결)"
      ],
      "metadata": {
        "id": "25RjLzj4K563"
      }
    },
    {
      "cell_type": "code",
      "source": [
        "for i in range(1,11):\n",
        "  c=input((\"{}번 학생의 주문 : \").format(i))\n",
        "  if c==\"짜장면\":\n",
        "    total.append(menu[c])\n",
        "  elif c==\"짬뽕\":\n",
        "    total.append(menu[c])\n",
        "  elif c==\"탕수육\":\n",
        "    total.append(menu[c])\n",
        "  elif c==\"볶음밥\":\n",
        "    total.append(menu[c])\n",
        "  else:\n",
        "    print(\"잘못된 주문입니다.\")\n",
        "\n",
        "print((\"주문 메뉴의 총 합은 {}원 입니다.\").format(sum(total)))"
      ],
      "metadata": {
        "id": "4vS6dz0xIWyC",
        "colab": {
          "base_uri": "https://localhost:8080/"
        },
        "outputId": "fd6022a3-424f-4876-e9dc-2b05db8055ba"
      },
      "execution_count": null,
      "outputs": [
        {
          "output_type": "stream",
          "name": "stdout",
          "text": [
            "1번 학생의 주문 : 1\n",
            "잘못된 주문입니다.\n",
            "2번 학생의 주문 : 21\n",
            "잘못된 주문입니다.\n",
            "3번 학생의 주문 : 4124\n",
            "잘못된 주문입니다.\n",
            "4번 학생의 주문 : 짜장면\n",
            "5번 학생의 주문 : 3\n",
            "잘못된 주문입니다.\n",
            "6번 학생의 주문 : 짬뽕\n",
            "7번 학생의 주문 : 탕수육\n",
            "8번 학생의 주문 : 볶음밥\n",
            "9번 학생의 주문 : 짬뽕\n",
            "10번 학생의 주문 : 34\n",
            "잘못된 주문입니다.\n",
            "주문 메뉴의 총 합은 73000원 입니다.\n"
          ]
        }
      ]
    },
    {
      "cell_type": "markdown",
      "source": [
        "##while문을 사용해 1부터 10까지 프린트 하시오\n",
        "\n",
        "\n",
        "*   i+=1 이 의미는 i에 +1을 해서 이것을 다시 i에 저장해준다는 뜻\n"
      ],
      "metadata": {
        "id": "BZ1PDMyXLomD"
      }
    },
    {
      "cell_type": "code",
      "source": [
        "i = 0\n",
        "while i <= 9:\n",
        "  i +=1\n",
        "  print(i)"
      ],
      "metadata": {
        "colab": {
          "base_uri": "https://localhost:8080/"
        },
        "id": "D6DuipeVKF6C",
        "outputId": "56b3aa9e-aee5-429a-d662-ca549e8b1543"
      },
      "execution_count": null,
      "outputs": [
        {
          "output_type": "stream",
          "name": "stdout",
          "text": [
            "1\n",
            "2\n",
            "3\n",
            "4\n",
            "5\n",
            "6\n",
            "7\n",
            "8\n",
            "9\n",
            "10\n"
          ]
        }
      ]
    },
    {
      "cell_type": "markdown",
      "source": [
        "##while문을 사용해 1부터 10까지 프린트 하시오 이때 i가 3의 배수이면 while문을 멈춰주세요"
      ],
      "metadata": {
        "id": "U-vJrMajNInA"
      }
    },
    {
      "cell_type": "code",
      "source": [
        "i = 0\n",
        "while i < 10:\n",
        "  i+=1\n",
        "  if i % 3 == 0:\n",
        "    break \n",
        "  print(i)"
      ],
      "metadata": {
        "colab": {
          "base_uri": "https://localhost:8080/"
        },
        "id": "Fnk5rg1pL0Vp",
        "outputId": "30dfa960-9ffe-4b33-f55a-335c97bb23ad"
      },
      "execution_count": null,
      "outputs": [
        {
          "output_type": "stream",
          "name": "stdout",
          "text": [
            "1\n",
            "2\n"
          ]
        }
      ]
    },
    {
      "cell_type": "markdown",
      "source": [
        "##while문을 사용해 1부터 10까지 프린트 하시오 이때 i가 3의 배수가 아닌값만 프린트 하시오"
      ],
      "metadata": {
        "id": "TpLyTHKzNST_"
      }
    },
    {
      "cell_type": "code",
      "source": [
        "i = 0\n",
        "while i < 10:\n",
        "  i+=1\n",
        "  if i % 3 == 0:\n",
        "    continue\n",
        "  print(i)"
      ],
      "metadata": {
        "colab": {
          "base_uri": "https://localhost:8080/"
        },
        "id": "KK4mhkBLM61r",
        "outputId": "c7ee5c49-64f5-43d3-b2fd-5a4836b26229"
      },
      "execution_count": null,
      "outputs": [
        {
          "output_type": "stream",
          "name": "stdout",
          "text": [
            "1\n",
            "2\n",
            "4\n",
            "5\n",
            "7\n",
            "8\n",
            "10\n"
          ]
        }
      ]
    },
    {
      "cell_type": "markdown",
      "source": [
        "##리스트에 라면, 3000, 생수, 2500, 과자,1500, 삼각김밥, 1000을 저장하고 리스트에서 메뉴명과 금액을 각각 따로 빼서 menu, money의 이름을 가지는 리스트로 각각 만드시오"
      ],
      "metadata": {
        "id": "vkrbGOjPNzrf"
      }
    },
    {
      "cell_type": "code",
      "source": [
        "a = [\"라면\",3000,\"생수\",2500,\"과자\",1500,\"삼각김밥\",1000] \n",
        "menu = []\n",
        "money = []\n",
        "\n",
        "for i in range(8):\n",
        "  if i == 0:\n",
        "    menu.append(a[i])\n",
        "  elif i == 1:\n",
        "    money.append(a[i])\n",
        "  elif i >= 2 and i % 2 == 0:\n",
        "    menu.append(a[i])\n",
        "  elif i >= 3 and i % 2 == 1:\n",
        "    money.append(a[i])\n",
        "\n",
        "print(menu)\n",
        "print(money)\n",
        "    \n",
        "\n"
      ],
      "metadata": {
        "id": "RYOk1EplOOg1",
        "colab": {
          "base_uri": "https://localhost:8080/"
        },
        "outputId": "9f5b9d6e-7076-4118-ecd7-bd317010d6a4"
      },
      "execution_count": null,
      "outputs": [
        {
          "output_type": "stream",
          "name": "stdout",
          "text": [
            "['라면', '생수', '과자', '삼각김밥']\n",
            "[3000, 2500, 1500, 1000]\n"
          ]
        }
      ]
    },
    {
      "cell_type": "code",
      "source": [
        "a = [\"라면\",3000,\"생수\",2500,\"과자\",1500,\"삼각김밥\",1000] \n",
        "menu = []\n",
        "money = []\n",
        "\n",
        "for i in a:\n",
        "  if type(i) == str:\n",
        "    menu.append(i)\n",
        "  else:\n",
        "    money.append(i)\n",
        "\n",
        "print(menu)\n",
        "print(money)"
      ],
      "metadata": {
        "colab": {
          "base_uri": "https://localhost:8080/"
        },
        "id": "x8W_XexX4T-o",
        "outputId": "d693ce67-86cd-4777-fa85-4fa92cb28b21"
      },
      "execution_count": null,
      "outputs": [
        {
          "output_type": "stream",
          "name": "stdout",
          "text": [
            "['라면', '생수', '과자', '삼각김밥']\n",
            "[3000, 2500, 1500, 1000]\n"
          ]
        }
      ]
    },
    {
      "cell_type": "markdown",
      "source": [
        "##while, for, if문을 활용해 아래와 같은 결과가 나오도록 만드시오"
      ],
      "metadata": {
        "id": "ks9TfJz_SgSA"
      }
    },
    {
      "cell_type": "code",
      "source": [
        "total = 0\n",
        "while True:\n",
        "  for i,j in zip(menu,money):\n",
        "    print(f\"{i} : {j}원\")\n",
        "\n",
        "  food = input(\"구매하고 싶은 품목을 선택하세요 : \")\n",
        "  if food == \"done\":\n",
        "    print(f\"총 금액은 {total}\")\n",
        "    break\n",
        "  for i in menu:\n",
        "    if i == food:\n",
        "      menu.index(food)\n",
        "  print(f\"{food} 의 가격은 {money[menu.index(food)]}원 입니다.\")\n",
        "  print(\"******************************************************\")\n",
        "  total += money[menu.index(food)] \n",
        "  \n",
        "    "
      ],
      "metadata": {
        "colab": {
          "base_uri": "https://localhost:8080/"
        },
        "id": "Ghmwx4hdOtS4",
        "outputId": "6bb46e88-0671-4984-d750-ac93e7452172"
      },
      "execution_count": null,
      "outputs": [
        {
          "output_type": "stream",
          "name": "stdout",
          "text": [
            "라면 : 3000원\n",
            "생수 : 2500원\n",
            "과자 : 1500원\n",
            "삼각김밥 : 1000원\n",
            "구매하고 싶은 품목을 선택하세요 : 라면\n",
            "라면 의 가격은 3000원 입니다.\n",
            "******************************************************\n",
            "라면 : 3000원\n",
            "생수 : 2500원\n",
            "과자 : 1500원\n",
            "삼각김밥 : 1000원\n",
            "구매하고 싶은 품목을 선택하세요 : 과자\n",
            "과자 의 가격은 1500원 입니다.\n",
            "******************************************************\n",
            "라면 : 3000원\n",
            "생수 : 2500원\n",
            "과자 : 1500원\n",
            "삼각김밥 : 1000원\n",
            "구매하고 싶은 품목을 선택하세요 : 과자\n",
            "과자 의 가격은 1500원 입니다.\n",
            "******************************************************\n",
            "라면 : 3000원\n",
            "생수 : 2500원\n",
            "과자 : 1500원\n",
            "삼각김밥 : 1000원\n",
            "구매하고 싶은 품목을 선택하세요 : done\n",
            "총 금액은 6000\n"
          ]
        }
      ]
    },
    {
      "cell_type": "code",
      "source": [],
      "metadata": {
        "id": "uVp9qVECTNOP"
      },
      "execution_count": null,
      "outputs": []
    }
  ]
}