{
  "nbformat": 4,
  "nbformat_minor": 0,
  "metadata": {
    "colab": {
      "provenance": [],
      "include_colab_link": true
    },
    "kernelspec": {
      "name": "python3",
      "display_name": "Python 3"
    },
    "language_info": {
      "name": "python"
    }
  },
  "cells": [
    {
      "cell_type": "markdown",
      "metadata": {
        "id": "view-in-github",
        "colab_type": "text"
      },
      "source": [
        "<a href=\"https://colab.research.google.com/github/byunsungil/AI01/blob/main/%EC%9D%B8%EA%B3%B5%EC%A7%80%EB%8A%A5_01%EB%AC%B8%EC%A0%9C.ipynb\" target=\"_parent\"><img src=\"https://colab.research.google.com/assets/colab-badge.svg\" alt=\"Open In Colab\"/></a>"
      ]
    },
    {
      "cell_type": "code",
      "source": [
        "a = [\"독고영재, 50\",\"김철수, 30\"]"
      ],
      "metadata": {
        "id": "0S4_GJLhJz_7"
      },
      "execution_count": 27,
      "outputs": []
    },
    {
      "cell_type": "code",
      "source": [
        "a[0][:a[0].index(\",\")]"
      ],
      "metadata": {
        "colab": {
          "base_uri": "https://localhost:8080/",
          "height": 35
        },
        "id": "nnslq6JJJ0R9",
        "outputId": "db8e9e7c-1191-4850-9fa9-767009fed36f"
      },
      "execution_count": 28,
      "outputs": [
        {
          "output_type": "execute_result",
          "data": {
            "text/plain": [
              "'독고영재'"
            ],
            "application/vnd.google.colaboratory.intrinsic+json": {
              "type": "string"
            }
          },
          "metadata": {},
          "execution_count": 28
        }
      ]
    },
    {
      "cell_type": "markdown",
      "source": [
        "##변수에 이름/학교/학과 형식으로 저장하고 format을 사용해print하시오(이름/학교/학과는 각각 input을 활용해 입력"
      ],
      "metadata": {
        "id": "7Qajl-mzmqMA"
      }
    },
    {
      "cell_type": "code",
      "source": [
        "이름 = input()\n",
        "학교 = input()\n",
        "학과 = input()\n",
        "print(\"이름 = {} 학교 = {} 학과 = {} \".format(이름,학교,학과))"
      ],
      "metadata": {
        "id": "Cf6BfoGHmppC",
        "colab": {
          "base_uri": "https://localhost:8080/"
        },
        "outputId": "57c5a2ed-b373-4836-a2a0-4899181bf478"
      },
      "execution_count": 6,
      "outputs": [
        {
          "output_type": "stream",
          "name": "stdout",
          "text": [
            "sungil\n",
            "kangwon\n",
            "ai\n",
            "이름 = sungil 학교 = kangwon 학과 = ai \n"
          ]
        }
      ]
    },
    {
      "cell_type": "markdown",
      "source": [
        "##위에서 생성된 이름/학교/학과 라는 문자를 이름-학교-학과로 변환하시오"
      ],
      "metadata": {
        "id": "Zkw8IHqm_UOY"
      }
    },
    {
      "cell_type": "code",
      "source": [],
      "metadata": {
        "id": "oXseUZIKAA8X"
      },
      "execution_count": 32,
      "outputs": []
    },
    {
      "cell_type": "markdown",
      "source": [
        "##안녕하세요 저는 AI소프트웨어학과 학생입니다. 만나서 반갑습니다. 라는 문장을 만들어서 반갑습니다. 라는 문장만 따로 print하시오 "
      ],
      "metadata": {
        "id": "6wfO4uJkip-s"
      }
    },
    {
      "cell_type": "code",
      "source": [
        "a = \"안녕하세요 저는 AI소프트웨어학과 학생입니다. 만나서 반갑습니다.\"\n",
        "a[-6:]"
      ],
      "metadata": {
        "id": "gjaRIu8bJkdQ",
        "colab": {
          "base_uri": "https://localhost:8080/",
          "height": 35
        },
        "outputId": "4a677262-cf8c-47c3-c5ca-7f507dfd0af6"
      },
      "execution_count": 31,
      "outputs": [
        {
          "output_type": "execute_result",
          "data": {
            "text/plain": [
              "'반갑습니다.'"
            ],
            "application/vnd.google.colaboratory.intrinsic+json": {
              "type": "string"
            }
          },
          "metadata": {},
          "execution_count": 31
        }
      ]
    },
    {
      "cell_type": "markdown",
      "source": [
        "##위에서 저장된 변수에서 학교이름만 나오도록 print하시오"
      ],
      "metadata": {
        "id": "01a76lNDm-IR"
      }
    },
    {
      "cell_type": "code",
      "execution_count": 8,
      "metadata": {
        "id": "QX2OjsROkwDc",
        "colab": {
          "base_uri": "https://localhost:8080/"
        },
        "outputId": "f0274ffe-be1f-4602-bed8-4ba50e3213d6"
      },
      "outputs": [
        {
          "output_type": "stream",
          "name": "stdout",
          "text": [
            "kangwon\n"
          ]
        }
      ],
      "source": [
        "print(\"{}\".format(학교))"
      ]
    },
    {
      "cell_type": "markdown",
      "source": [
        "##주어진 이름(Jone-30, Park-30, Kim-20, Lee-10, Oh-32, Kang-25)을 name이란 리스트를 만들고 Lee를 가진 사람의 성만 따로 도출하시오"
      ],
      "metadata": {
        "id": "iwarHaxfk4zW"
      }
    },
    {
      "cell_type": "code",
      "source": [
        "name = [\"Jone-30\",\"Park-30\",\"Kim-20\",\"Lee-10\",\"Oh-32\",\"Kang-25\"]\n",
        "name[3][:name[3].index(\"-\")]"
      ],
      "metadata": {
        "id": "0RS1SIt2mT55",
        "colab": {
          "base_uri": "https://localhost:8080/",
          "height": 35
        },
        "outputId": "0013ee39-ddab-4c4b-c960-a756fc4f4b5a"
      },
      "execution_count": 33,
      "outputs": [
        {
          "output_type": "execute_result",
          "data": {
            "text/plain": [
              "'Lee'"
            ],
            "application/vnd.google.colaboratory.intrinsic+json": {
              "type": "string"
            }
          },
          "metadata": {},
          "execution_count": 33
        }
      ]
    },
    {
      "cell_type": "markdown",
      "source": [
        "##20, 50, 76, 10, 59, 22, 40 ,50, 77, 52의 숫자를 하나의 리스트에 저장하시오"
      ],
      "metadata": {
        "id": "rr__BdUH-Elo"
      }
    },
    {
      "cell_type": "code",
      "source": [
        "n = [20,50,76,10,59,22,40,50,77,52]\n",
        "n"
      ],
      "metadata": {
        "id": "OSfGbKq4mJ8T",
        "colab": {
          "base_uri": "https://localhost:8080/"
        },
        "outputId": "1ee7438c-8354-475d-fb49-719869e906ea"
      },
      "execution_count": 16,
      "outputs": [
        {
          "output_type": "execute_result",
          "data": {
            "text/plain": [
              "[20, 50, 76, 10, 59, 22, 40, 50, 77, 52]"
            ]
          },
          "metadata": {},
          "execution_count": 16
        }
      ]
    },
    {
      "cell_type": "markdown",
      "source": [
        "## 위에서 저장된 리스트에서 20, 50, 76, 10만 print하시오"
      ],
      "metadata": {
        "id": "O-YZ8boQ-SiI"
      }
    },
    {
      "cell_type": "code",
      "source": [
        "n[0:4]"
      ],
      "metadata": {
        "id": "vCcYYQnxia2i",
        "colab": {
          "base_uri": "https://localhost:8080/"
        },
        "outputId": "bbab7af2-75f7-45ed-9339-fcbb311c9d84"
      },
      "execution_count": 17,
      "outputs": [
        {
          "output_type": "execute_result",
          "data": {
            "text/plain": [
              "[20, 50, 76, 10]"
            ]
          },
          "metadata": {},
          "execution_count": 17
        }
      ]
    },
    {
      "cell_type": "markdown",
      "source": [
        "##위에서 저장된 리스트에서 77만 print하시오"
      ],
      "metadata": {
        "id": "jEpdDU_G-eK4"
      }
    },
    {
      "cell_type": "code",
      "source": [
        "n[8]"
      ],
      "metadata": {
        "id": "oWKGzPmo-_d4",
        "colab": {
          "base_uri": "https://localhost:8080/"
        },
        "outputId": "c9b95cd4-3a34-4e2a-b607-42e948bdde08"
      },
      "execution_count": 20,
      "outputs": [
        {
          "output_type": "execute_result",
          "data": {
            "text/plain": [
              "77"
            ]
          },
          "metadata": {},
          "execution_count": 20
        }
      ]
    },
    {
      "cell_type": "markdown",
      "source": [
        "## 위에서 저장된 리스트에서 음수를 활용해 77, 52를 가지고오시오"
      ],
      "metadata": {
        "id": "hy4j_vUk-zHA"
      }
    },
    {
      "cell_type": "code",
      "source": [
        "n[-2:]"
      ],
      "metadata": {
        "id": "zXZk1A4Kiidy",
        "colab": {
          "base_uri": "https://localhost:8080/"
        },
        "outputId": "515fc5c8-ae82-48c5-fb6c-276d13ea888b"
      },
      "execution_count": 25,
      "outputs": [
        {
          "output_type": "execute_result",
          "data": {
            "text/plain": [
              "[77, 52]"
            ]
          },
          "metadata": {},
          "execution_count": 25
        }
      ]
    }
  ]
}