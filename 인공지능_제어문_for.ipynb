{
  "nbformat": 4,
  "nbformat_minor": 0,
  "metadata": {
    "colab": {
      "provenance": [],
      "include_colab_link": true
    },
    "kernelspec": {
      "name": "python3",
      "display_name": "Python 3"
    },
    "language_info": {
      "name": "python"
    }
  },
  "cells": [
    {
      "cell_type": "markdown",
      "metadata": {
        "id": "view-in-github",
        "colab_type": "text"
      },
      "source": [
        "<a href=\"https://colab.research.google.com/github/byunsungil/AI01/blob/main/%EC%9D%B8%EA%B3%B5%EC%A7%80%EB%8A%A5_%EC%A0%9C%EC%96%B4%EB%AC%B8_for.ipynb\" target=\"_parent\"><img src=\"https://colab.research.google.com/assets/colab-badge.svg\" alt=\"Open In Colab\"/></a>"
      ]
    },
    {
      "cell_type": "code",
      "source": [
        "text=[\"김철수/20\", \"이철수/24\", \"김영희/21\", \"이영희/24\", \"김민준/35\", \"박민준/40\", \"김지영/34\", \"박지영/35\"]"
      ],
      "metadata": {
        "id": "Y8MhPJXE1OTa"
      },
      "execution_count": null,
      "outputs": []
    },
    {
      "cell_type": "code",
      "source": [
        "a=[]\n",
        "for i in text:\n",
        "  strings = i.split('/')\n",
        "  a.append(strings)\n",
        "print(a)"
      ],
      "metadata": {
        "colab": {
          "base_uri": "https://localhost:8080/"
        },
        "id": "nu7m3Zs82eCD",
        "outputId": "4ced5b1b-2618-43ca-e6a5-bac97681b86c"
      },
      "execution_count": null,
      "outputs": [
        {
          "output_type": "stream",
          "name": "stdout",
          "text": [
            "[['김철수', '20'], ['이철수', '24'], ['김영희', '21'], ['이영희', '24'], ['김민준', '35'], ['박민준', '40'], ['김지영', '34'], ['박지영', '35']]\n"
          ]
        }
      ]
    },
    {
      "cell_type": "code",
      "source": [
        "for i in range(len(a)):\n",
        "  print((\"{}는 {}살이다.\").format(a[i][0], a[i][1]))"
      ],
      "metadata": {
        "colab": {
          "base_uri": "https://localhost:8080/"
        },
        "id": "GTHR2x1V2xJA",
        "outputId": "1857c7dc-7932-414f-f720-50be5b17c8c8"
      },
      "execution_count": null,
      "outputs": [
        {
          "output_type": "stream",
          "name": "stdout",
          "text": [
            "김철수는 20살이다.\n",
            "이철수는 24살이다.\n",
            "김영희는 21살이다.\n",
            "이영희는 24살이다.\n",
            "김민준는 35살이다.\n",
            "박민준는 40살이다.\n",
            "김지영는 34살이다.\n",
            "박지영는 35살이다.\n"
          ]
        }
      ]
    },
    {
      "cell_type": "code",
      "source": [
        "a"
      ],
      "metadata": {
        "colab": {
          "base_uri": "https://localhost:8080/"
        },
        "id": "gGXrjoNBQ0dH",
        "outputId": "5683f701-d5f2-48c6-8a1f-7136c5e450bc"
      },
      "execution_count": null,
      "outputs": [
        {
          "output_type": "execute_result",
          "data": {
            "text/plain": [
              "[['김철수', '20'],\n",
              " ['이철수', '24'],\n",
              " ['김영희', '21'],\n",
              " ['이영희', '24'],\n",
              " ['김민준', '35'],\n",
              " ['박민준', '40'],\n",
              " ['김지영', '34'],\n",
              " ['박지영', '35']]"
            ]
          },
          "metadata": {},
          "execution_count": 39
        }
      ]
    },
    {
      "cell_type": "markdown",
      "source": [
        "##for문을 활용해 50 부터 83까지 print 하시오"
      ],
      "metadata": {
        "id": "5Hgm405mHN2a"
      }
    },
    {
      "cell_type": "code",
      "source": [
        "for i in range(50,84):\n",
        "  print(i)"
      ],
      "metadata": {
        "id": "h6F7BjinLeb2",
        "colab": {
          "base_uri": "https://localhost:8080/"
        },
        "outputId": "65538c22-592b-4397-f206-2988ddb47fd9"
      },
      "execution_count": null,
      "outputs": [
        {
          "output_type": "stream",
          "name": "stdout",
          "text": [
            "50\n",
            "51\n",
            "52\n",
            "53\n",
            "54\n",
            "55\n",
            "56\n",
            "57\n",
            "58\n",
            "59\n",
            "60\n",
            "61\n",
            "62\n",
            "63\n",
            "64\n",
            "65\n",
            "66\n",
            "67\n",
            "68\n",
            "69\n",
            "70\n",
            "71\n",
            "72\n",
            "73\n",
            "74\n",
            "75\n",
            "76\n",
            "77\n",
            "78\n",
            "79\n",
            "80\n",
            "81\n",
            "82\n",
            "83\n"
          ]
        }
      ]
    },
    {
      "cell_type": "markdown",
      "source": [
        "##하나의 빈 리스트 a=[]를 만들고 1단 부터 9단까지의 구구단의 결과 값을 a라는 하나의 리스트에 저장하시오"
      ],
      "metadata": {
        "id": "rIF9_db8HmQx"
      }
    },
    {
      "cell_type": "code",
      "source": [
        "a=[]\n",
        "for i in range(1,10):\n",
        "  for j in range(1,10):\n",
        "    a.append(i*j)\n",
        "print(a)"
      ],
      "metadata": {
        "colab": {
          "base_uri": "https://localhost:8080/"
        },
        "id": "XhOuamrTuel1",
        "outputId": "53eb2deb-4aeb-4891-fa61-c905068441a2"
      },
      "execution_count": null,
      "outputs": [
        {
          "output_type": "stream",
          "name": "stdout",
          "text": [
            "[1, 2, 3, 4, 5, 6, 7, 8, 9, 2, 4, 6, 8, 10, 12, 14, 16, 18, 3, 6, 9, 12, 15, 18, 21, 24, 27, 4, 8, 12, 16, 20, 24, 28, 32, 36, 5, 10, 15, 20, 25, 30, 35, 40, 45, 6, 12, 18, 24, 30, 36, 42, 48, 54, 7, 14, 21, 28, 35, 42, 49, 56, 63, 8, 16, 24, 32, 40, 48, 56, 64, 72, 9, 18, 27, 36, 45, 54, 63, 72, 81]\n"
          ]
        }
      ]
    },
    {
      "cell_type": "code",
      "source": [
        "a=[]\n",
        "for i in range(1,10):\n",
        "    print(\"--------{}단--------\".format(i))\n",
        "    for j in range(1,10):\n",
        "        print(\"구구단 : {} * {} = {}\".format(i,j,i*j))\n",
        "        a.append(i*j)"
      ],
      "metadata": {
        "id": "sJhzS0uOHzxJ",
        "colab": {
          "base_uri": "https://localhost:8080/"
        },
        "outputId": "6eb8441a-2206-40d9-8fe5-54ff391dd753"
      },
      "execution_count": null,
      "outputs": [
        {
          "output_type": "stream",
          "name": "stdout",
          "text": [
            "--------1단--------\n",
            "구구단 : 1 * 1 = 1\n",
            "구구단 : 1 * 2 = 2\n",
            "구구단 : 1 * 3 = 3\n",
            "구구단 : 1 * 4 = 4\n",
            "구구단 : 1 * 5 = 5\n",
            "구구단 : 1 * 6 = 6\n",
            "구구단 : 1 * 7 = 7\n",
            "구구단 : 1 * 8 = 8\n",
            "구구단 : 1 * 9 = 9\n",
            "--------2단--------\n",
            "구구단 : 2 * 1 = 2\n",
            "구구단 : 2 * 2 = 4\n",
            "구구단 : 2 * 3 = 6\n",
            "구구단 : 2 * 4 = 8\n",
            "구구단 : 2 * 5 = 10\n",
            "구구단 : 2 * 6 = 12\n",
            "구구단 : 2 * 7 = 14\n",
            "구구단 : 2 * 8 = 16\n",
            "구구단 : 2 * 9 = 18\n",
            "--------3단--------\n",
            "구구단 : 3 * 1 = 3\n",
            "구구단 : 3 * 2 = 6\n",
            "구구단 : 3 * 3 = 9\n",
            "구구단 : 3 * 4 = 12\n",
            "구구단 : 3 * 5 = 15\n",
            "구구단 : 3 * 6 = 18\n",
            "구구단 : 3 * 7 = 21\n",
            "구구단 : 3 * 8 = 24\n",
            "구구단 : 3 * 9 = 27\n",
            "--------4단--------\n",
            "구구단 : 4 * 1 = 4\n",
            "구구단 : 4 * 2 = 8\n",
            "구구단 : 4 * 3 = 12\n",
            "구구단 : 4 * 4 = 16\n",
            "구구단 : 4 * 5 = 20\n",
            "구구단 : 4 * 6 = 24\n",
            "구구단 : 4 * 7 = 28\n",
            "구구단 : 4 * 8 = 32\n",
            "구구단 : 4 * 9 = 36\n",
            "--------5단--------\n",
            "구구단 : 5 * 1 = 5\n",
            "구구단 : 5 * 2 = 10\n",
            "구구단 : 5 * 3 = 15\n",
            "구구단 : 5 * 4 = 20\n",
            "구구단 : 5 * 5 = 25\n",
            "구구단 : 5 * 6 = 30\n",
            "구구단 : 5 * 7 = 35\n",
            "구구단 : 5 * 8 = 40\n",
            "구구단 : 5 * 9 = 45\n",
            "--------6단--------\n",
            "구구단 : 6 * 1 = 6\n",
            "구구단 : 6 * 2 = 12\n",
            "구구단 : 6 * 3 = 18\n",
            "구구단 : 6 * 4 = 24\n",
            "구구단 : 6 * 5 = 30\n",
            "구구단 : 6 * 6 = 36\n",
            "구구단 : 6 * 7 = 42\n",
            "구구단 : 6 * 8 = 48\n",
            "구구단 : 6 * 9 = 54\n",
            "--------7단--------\n",
            "구구단 : 7 * 1 = 7\n",
            "구구단 : 7 * 2 = 14\n",
            "구구단 : 7 * 3 = 21\n",
            "구구단 : 7 * 4 = 28\n",
            "구구단 : 7 * 5 = 35\n",
            "구구단 : 7 * 6 = 42\n",
            "구구단 : 7 * 7 = 49\n",
            "구구단 : 7 * 8 = 56\n",
            "구구단 : 7 * 9 = 63\n",
            "--------8단--------\n",
            "구구단 : 8 * 1 = 8\n",
            "구구단 : 8 * 2 = 16\n",
            "구구단 : 8 * 3 = 24\n",
            "구구단 : 8 * 4 = 32\n",
            "구구단 : 8 * 5 = 40\n",
            "구구단 : 8 * 6 = 48\n",
            "구구단 : 8 * 7 = 56\n",
            "구구단 : 8 * 8 = 64\n",
            "구구단 : 8 * 9 = 72\n",
            "--------9단--------\n",
            "구구단 : 9 * 1 = 9\n",
            "구구단 : 9 * 2 = 18\n",
            "구구단 : 9 * 3 = 27\n",
            "구구단 : 9 * 4 = 36\n",
            "구구단 : 9 * 5 = 45\n",
            "구구단 : 9 * 6 = 54\n",
            "구구단 : 9 * 7 = 63\n",
            "구구단 : 9 * 8 = 72\n",
            "구구단 : 9 * 9 = 81\n"
          ]
        }
      ]
    },
    {
      "cell_type": "markdown",
      "source": [
        "##위에서 만들어진 a라는 리스트에서 최초의 64, 81이 속하는 위치값을 도출하시오"
      ],
      "metadata": {
        "id": "DXXlpmYzIHOA"
      }
    },
    {
      "cell_type": "code",
      "source": [
        "a.index(64)"
      ],
      "metadata": {
        "id": "hr3DyiXgH6tz",
        "colab": {
          "base_uri": "https://localhost:8080/"
        },
        "outputId": "22d12f81-f387-41e4-c991-887bed6dd9bd"
      },
      "execution_count": null,
      "outputs": [
        {
          "output_type": "execute_result",
          "data": {
            "text/plain": [
              "70"
            ]
          },
          "metadata": {},
          "execution_count": 50
        }
      ]
    },
    {
      "cell_type": "code",
      "source": [
        "a.index(81)"
      ],
      "metadata": {
        "colab": {
          "base_uri": "https://localhost:8080/"
        },
        "id": "0IAq9et7Sl4u",
        "outputId": "09402fc5-e87f-4f2c-d0ef-5f1603c546cf"
      },
      "execution_count": null,
      "outputs": [
        {
          "output_type": "execute_result",
          "data": {
            "text/plain": [
              "80"
            ]
          },
          "metadata": {},
          "execution_count": 51
        }
      ]
    },
    {
      "cell_type": "code",
      "source": [
        "a[70]"
      ],
      "metadata": {
        "colab": {
          "base_uri": "https://localhost:8080/"
        },
        "id": "ifhvflroSoAu",
        "outputId": "ee8be7c5-ad4d-4d24-f8f6-708162121223"
      },
      "execution_count": null,
      "outputs": [
        {
          "output_type": "execute_result",
          "data": {
            "text/plain": [
              "64"
            ]
          },
          "metadata": {},
          "execution_count": 52
        }
      ]
    },
    {
      "cell_type": "code",
      "source": [
        "a[80]"
      ],
      "metadata": {
        "colab": {
          "base_uri": "https://localhost:8080/"
        },
        "id": "DLGFSSVESqKP",
        "outputId": "32afa619-e6d0-46cb-db11-8de7c515f15c"
      },
      "execution_count": null,
      "outputs": [
        {
          "output_type": "execute_result",
          "data": {
            "text/plain": [
              "81"
            ]
          },
          "metadata": {},
          "execution_count": 53
        }
      ]
    },
    {
      "cell_type": "markdown",
      "source": [
        "## 아이스크림의 이름과 가격을 딕셔너리 형태로 저장하시오\n",
        "## 바밤바 : 1500원, 메로나 : 1500원, 붕어싸만코 : 2000원, 월드콘 : 3000원, 투게더 : 5000원 "
      ],
      "metadata": {
        "id": "d1RJX6IDIp2A"
      }
    },
    {
      "cell_type": "code",
      "source": [
        "i = {\"바밤바\" : \"1500원\", \"메로나\" : \"1500원\", \"붕어싸만코\" : \"2000원\", \"월드콘\" : \"3000원\", \"투게더\": \"5000원\"}"
      ],
      "metadata": {
        "id": "y65zwXAHIDbJ"
      },
      "execution_count": null,
      "outputs": []
    },
    {
      "cell_type": "markdown",
      "source": [
        "## 해당 딕셔너리에 월드콘을 삭제하고 쌍쌍바 : 2000원을 추가하시오"
      ],
      "metadata": {
        "id": "mHwZKe_GJrpo"
      }
    },
    {
      "cell_type": "code",
      "source": [
        "del i[\"월드콘\"]\n",
        "i[\"쌍쌍바\"] = \"2000원\""
      ],
      "metadata": {
        "id": "tt9EdxJBIUGJ"
      },
      "execution_count": null,
      "outputs": []
    },
    {
      "cell_type": "code",
      "source": [
        "i"
      ],
      "metadata": {
        "id": "vLtB6D3ZMFdd",
        "colab": {
          "base_uri": "https://localhost:8080/"
        },
        "outputId": "e0933e13-8855-437e-85ec-726ab3ad810a"
      },
      "execution_count": null,
      "outputs": [
        {
          "output_type": "execute_result",
          "data": {
            "text/plain": [
              "{'바밤바': '1500원',\n",
              " '메로나': '1500원',\n",
              " '붕어싸만코': '2000원',\n",
              " '투게더': '5000원',\n",
              " '쌍쌍바': '2000원'}"
            ]
          },
          "metadata": {},
          "execution_count": 37
        }
      ]
    },
    {
      "cell_type": "markdown",
      "source": [
        "## for문을 활용해 1단부터 9단까지 곱한 결과를 나타낼때 아래의 리스트를 써서 표현하시오\n",
        "## a=[\"1단\",\"2단\",\"3단\",\"4단\",\"5단\",\"6단\",\"7단\",\"8단\",\"9단\"]"
      ],
      "metadata": {
        "id": "sNm6q5OsKE93"
      }
    },
    {
      "cell_type": "code",
      "source": [
        "a=[\"1단\",\"2단\",\"3단\",\"4단\",\"5단\",\"6단\",\"7단\",\"8단\",\"9단\"]\n",
        "for i in range(1,10):\n",
        "  print((\"------{}------\").format(a[(i-1)]))\n",
        "  for j in range(1,10):\n",
        "    print(\"{}x{}={}\".format(i,j,i*j))\n"
      ],
      "metadata": {
        "id": "n_ho38GCIjVo",
        "colab": {
          "base_uri": "https://localhost:8080/"
        },
        "outputId": "ce6c4fe0-bd36-4e89-902c-888c3dd2e26e"
      },
      "execution_count": null,
      "outputs": [
        {
          "output_type": "stream",
          "name": "stdout",
          "text": [
            "------1단------\n",
            "1x1=1\n",
            "1x2=2\n",
            "1x3=3\n",
            "1x4=4\n",
            "1x5=5\n",
            "1x6=6\n",
            "1x7=7\n",
            "1x8=8\n",
            "1x9=9\n",
            "------2단------\n",
            "2x1=2\n",
            "2x2=4\n",
            "2x3=6\n",
            "2x4=8\n",
            "2x5=10\n",
            "2x6=12\n",
            "2x7=14\n",
            "2x8=16\n",
            "2x9=18\n",
            "------3단------\n",
            "3x1=3\n",
            "3x2=6\n",
            "3x3=9\n",
            "3x4=12\n",
            "3x5=15\n",
            "3x6=18\n",
            "3x7=21\n",
            "3x8=24\n",
            "3x9=27\n",
            "------4단------\n",
            "4x1=4\n",
            "4x2=8\n",
            "4x3=12\n",
            "4x4=16\n",
            "4x5=20\n",
            "4x6=24\n",
            "4x7=28\n",
            "4x8=32\n",
            "4x9=36\n",
            "------5단------\n",
            "5x1=5\n",
            "5x2=10\n",
            "5x3=15\n",
            "5x4=20\n",
            "5x5=25\n",
            "5x6=30\n",
            "5x7=35\n",
            "5x8=40\n",
            "5x9=45\n",
            "------6단------\n",
            "6x1=6\n",
            "6x2=12\n",
            "6x3=18\n",
            "6x4=24\n",
            "6x5=30\n",
            "6x6=36\n",
            "6x7=42\n",
            "6x8=48\n",
            "6x9=54\n",
            "------7단------\n",
            "7x1=7\n",
            "7x2=14\n",
            "7x3=21\n",
            "7x4=28\n",
            "7x5=35\n",
            "7x6=42\n",
            "7x7=49\n",
            "7x8=56\n",
            "7x9=63\n",
            "------8단------\n",
            "8x1=8\n",
            "8x2=16\n",
            "8x3=24\n",
            "8x4=32\n",
            "8x5=40\n",
            "8x6=48\n",
            "8x7=56\n",
            "8x8=64\n",
            "8x9=72\n",
            "------9단------\n",
            "9x1=9\n",
            "9x2=18\n",
            "9x3=27\n",
            "9x4=36\n",
            "9x5=45\n",
            "9x6=54\n",
            "9x7=63\n",
            "9x8=72\n",
            "9x9=81\n"
          ]
        }
      ]
    }
  ]
}