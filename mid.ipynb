{
 "cells": [
  {
   "cell_type": "code",
   "execution_count": null,
   "id": "3f8431d2",
   "metadata": {},
   "outputs": [],
   "source": [
    "a = int(input)\n",
    "\n",
    "score =0\n",
    "hscore =0\n",
    "\n",
    "for\n",
    "asv = input \n",
    "sc += dde\n",
    "if sc > cs\n",
    "df\n",
    "aver = t/n"
   ]
  },
  {
   "cell_type": "code",
   "execution_count": null,
   "id": "8abe414e",
   "metadata": {},
   "outputs": [],
   "source": [
    "i = 0\n",
    "a = []\n",
    "while 1<100:\n",
    "    i+=1\n",
    "    if i%10 == 0:\n",
    "        continue\n",
    "    else:\n",
    "        a.append(i)\n"
   ]
  },
  {
   "cell_type": "code",
   "execution_count": null,
   "id": "a673f50d",
   "metadata": {},
   "outputs": [],
   "source": [
    "for i in range(1,9):\n",
    "    print(\"*\"*i)"
   ]
  }
 ],
 "metadata": {
  "kernelspec": {
   "display_name": "sungil",
   "language": "python",
   "name": "sungil"
  },
  "language_info": {
   "codemirror_mode": {
    "name": "ipython",
    "version": 3
   },
   "file_extension": ".py",
   "mimetype": "text/x-python",
   "name": "python",
   "nbconvert_exporter": "python",
   "pygments_lexer": "ipython3",
   "version": "3.9.13"
  }
 },
 "nbformat": 4,
 "nbformat_minor": 5
}
