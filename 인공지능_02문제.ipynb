{
  "nbformat": 4,
  "nbformat_minor": 0,
  "metadata": {
    "colab": {
      "provenance": [],
      "include_colab_link": true
    },
    "kernelspec": {
      "name": "python3",
      "display_name": "Python 3"
    },
    "language_info": {
      "name": "python"
    }
  },
  "cells": [
    {
      "cell_type": "markdown",
      "metadata": {
        "id": "view-in-github",
        "colab_type": "text"
      },
      "source": [
        "<a href=\"https://colab.research.google.com/github/byunsungil/AI01/blob/main/%EC%9D%B8%EA%B3%B5%EC%A7%80%EB%8A%A5_02%EB%AC%B8%EC%A0%9C.ipynb\" target=\"_parent\"><img src=\"https://colab.research.google.com/assets/colab-badge.svg\" alt=\"Open In Colab\"/></a>"
      ]
    },
    {
      "cell_type": "markdown",
      "source": [
        "##하나의 변수에 성명/전화번호 형식으로 저장하고 print하시오"
      ],
      "metadata": {
        "id": "7Qajl-mzmqMA"
      }
    },
    {
      "cell_type": "code",
      "source": [
        "a= [\"변성일/01049219601\"]\n",
        "print(a)"
      ],
      "metadata": {
        "id": "Cf6BfoGHmppC",
        "colab": {
          "base_uri": "https://localhost:8080/"
        },
        "outputId": "0166aeeb-9d1f-4f9b-cc11-af8990148e58"
      },
      "execution_count": null,
      "outputs": [
        {
          "output_type": "stream",
          "name": "stdout",
          "text": [
            "['변성일/01049219601']\n"
          ]
        }
      ]
    },
    {
      "cell_type": "markdown",
      "source": [
        "##위에서 저장된 변수에서 전화번호 중간 번호 4자리만 print하시오"
      ],
      "metadata": {
        "id": "01a76lNDm-IR"
      }
    },
    {
      "cell_type": "code",
      "execution_count": null,
      "metadata": {
        "id": "QX2OjsROkwDc",
        "colab": {
          "base_uri": "https://localhost:8080/",
          "height": 35
        },
        "outputId": "eb35ff51-7506-4bd3-aab6-33b14bac8a90"
      },
      "outputs": [
        {
          "output_type": "execute_result",
          "data": {
            "text/plain": [
              "'4921'"
            ],
            "application/vnd.google.colaboratory.intrinsic+json": {
              "type": "string"
            }
          },
          "metadata": {},
          "execution_count": 13
        }
      ],
      "source": [
        "a[0][7:11]"
      ]
    },
    {
      "cell_type": "markdown",
      "source": [
        "##주어진 과일이름(사과, 포도, 복숭아, 참외, 수박, 바나나)에 대해 fruits란 리스트를 만들고 각각을 format을 활용해 print 하시오"
      ],
      "metadata": {
        "id": "iwarHaxfk4zW"
      }
    },
    {
      "cell_type": "markdown",
      "source": [],
      "metadata": {
        "id": "RiVwJ1LjmUfP"
      }
    },
    {
      "cell_type": "code",
      "source": [
        "fruits = [\"사과\",\"포도\",\"복숭아\",\"참외\",\"수박\",\"바나나\"]\n"
      ],
      "metadata": {
        "id": "0RS1SIt2mT55"
      },
      "execution_count": null,
      "outputs": []
    },
    {
      "cell_type": "markdown",
      "source": [
        "##fruits에서 복숭아와 바나나 값을 제거하고 멜론과 파인애플을 추가하시오"
      ],
      "metadata": {
        "id": "5cUHva5fmV2F"
      }
    },
    {
      "cell_type": "code",
      "source": [
        "fruits.pop(2)\n",
        "fruits.pop(4)\n",
        "fruits.append(\"멜론\")\n",
        "fruits.append(\"파인애플\")\n",
        "fruits\n",
        "\n"
      ],
      "metadata": {
        "id": "9jXmzvpQlPjS",
        "colab": {
          "base_uri": "https://localhost:8080/"
        },
        "outputId": "a5a4b673-e7ca-43fe-babf-78fa4b403431"
      },
      "execution_count": null,
      "outputs": [
        {
          "output_type": "execute_result",
          "data": {
            "text/plain": [
              "['사과', '포도', '참외', '수박', '멜론', '파인애플']"
            ]
          },
          "metadata": {},
          "execution_count": 18
        }
      ]
    },
    {
      "cell_type": "markdown",
      "source": [
        "##AI소프트웨어 학과 홈페이지를 들어가 교수님들의 연구실 위치를 키 값으로 하고 이에 대해 교수님들이름을 저장하고 Ai라고 변수명을 설정하시오"
      ],
      "metadata": {
        "id": "YVTIP7vulV-9"
      }
    },
    {
      "cell_type": "code",
      "source": [
        "Ai = {417: \"유희경\",514 : \"황득영\", 510 : \"홍종성\", 509 :\"오형술\", 507 : \"장영관\", \n",
        "      508 : \"문성동\", 515 : \"윤인섭\", 609 : \"윤종철\", 513 : \"박은희\", 506 : \"이두호\", 415 : \"권세진\", 416 : \"이태민\", 607 : \"조기필\", 516 : \"김창균\"}"
      ],
      "metadata": {
        "id": "A1Lr9trsli25"
      },
      "execution_count": null,
      "outputs": []
    },
    {
      "cell_type": "markdown",
      "source": [
        "##위의 문제에서 정의된 Ai변수에 명예교수님을 추가하시오 키값 없으므로 특정 번호로 추가"
      ],
      "metadata": {
        "id": "ivd5rK8kljpV"
      }
    },
    {
      "cell_type": "code",
      "source": [
        "Ai[555] = \"명예\""
      ],
      "metadata": {
        "id": "OSfGbKq4mJ8T"
      },
      "execution_count": null,
      "outputs": []
    },
    {
      "cell_type": "code",
      "source": [
        "Ai"
      ],
      "metadata": {
        "id": "oiCYv0TwsBOw",
        "outputId": "11f58a1f-52ff-4a48-c7eb-8686419f6989",
        "colab": {
          "base_uri": "https://localhost:8080/"
        }
      },
      "execution_count": null,
      "outputs": [
        {
          "output_type": "execute_result",
          "data": {
            "text/plain": [
              "{417: '유희경',\n",
              " 514: '황득영',\n",
              " 510: '홍종성',\n",
              " 509: '오형술',\n",
              " 507: '장영관',\n",
              " 508: '문성동',\n",
              " 515: '윤인섭',\n",
              " 609: '윤종철',\n",
              " 513: '박은희',\n",
              " 506: '이두호',\n",
              " 415: '권세진',\n",
              " 416: '이태민',\n",
              " 607: '조기필',\n",
              " 516: '김창균',\n",
              " 555: '명예'}"
            ]
          },
          "metadata": {},
          "execution_count": 11
        }
      ]
    }
  ]
}