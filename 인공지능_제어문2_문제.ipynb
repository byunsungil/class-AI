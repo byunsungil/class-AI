{
  "nbformat": 4,
  "nbformat_minor": 0,
  "metadata": {
    "colab": {
      "provenance": [],
      "include_colab_link": true
    },
    "kernelspec": {
      "name": "python3",
      "display_name": "Python 3"
    },
    "language_info": {
      "name": "python"
    }
  },
  "cells": [
    {
      "cell_type": "markdown",
      "metadata": {
        "id": "view-in-github",
        "colab_type": "text"
      },
      "source": [
        "<a href=\"https://colab.research.google.com/github/byunsungil/AI01/blob/main/%EC%9D%B8%EA%B3%B5%EC%A7%80%EB%8A%A5_%EC%A0%9C%EC%96%B4%EB%AC%B82_%EB%AC%B8%EC%A0%9C.ipynb\" target=\"_parent\"><img src=\"https://colab.research.google.com/assets/colab-badge.svg\" alt=\"Open In Colab\"/></a>"
      ]
    },
    {
      "cell_type": "markdown",
      "source": [
        "## float의 입력값을 받아 아래의 결과를 프린트하는 성적 계산기를 만들어라(if문 활용)\n",
        "* A: 90이상-100이하\n",
        "* B: 80이상-89이하\n",
        "* C: 70이상-79이하\n",
        "* D: 60이상-69이하\n",
        "* F: 60보다 낮으면"
      ],
      "metadata": {
        "id": "qlfFvwIxu1dD"
      }
    },
    {
      "cell_type": "code",
      "source": [
        "score = float(input(\"성적을 입력하세요: \"))\n",
        "\n",
        "if score >= 90:\n",
        "    print(\"A\")\n",
        "elif score >= 80:\n",
        "    print(\"B\")\n",
        "elif score >= 70:\n",
        "    print(\"C\")\n",
        "elif score >= 60:\n",
        "    print(\"D\")\n",
        "else:\n",
        "    print(\"F\")\n"
      ],
      "metadata": {
        "colab": {
          "base_uri": "https://localhost:8080/"
        },
        "id": "R1lqVdFKqTfa",
        "outputId": "b88eea4b-0719-423d-eea2-e0ecd0be37a9"
      },
      "execution_count": null,
      "outputs": [
        {
          "output_type": "stream",
          "name": "stdout",
          "text": [
            "성적을 입력하세요: 89\n",
            "B\n"
          ]
        }
      ]
    },
    {
      "cell_type": "markdown",
      "source": [
        "## 3, 6, 8, 9, 12, 15를 리스트로 만들고 리스트의 값들중 2로 나눴을때 나머지가 0인 숫자들을 하나의 리스트에 저장하고 이를 프린트하시오(for, if문 사용)"
      ],
      "metadata": {
        "id": "jGix8ysDqYGb"
      }
    },
    {
      "cell_type": "code",
      "source": [
        "a = [3,6,8,9,12,15]\n",
        "b = []\n",
        "for i in a:\n",
        "  if i % 2 == 0:\n",
        "    b.append(i)\n",
        "  \n",
        "print(b)"
      ],
      "metadata": {
        "id": "6JJf5JthiIAv",
        "colab": {
          "base_uri": "https://localhost:8080/"
        },
        "outputId": "e1526f6f-3360-4340-8083-a5c5c314ae02"
      },
      "execution_count": null,
      "outputs": [
        {
          "output_type": "stream",
          "name": "stdout",
          "text": [
            "[6, 8, 12]\n"
          ]
        }
      ]
    },
    {
      "cell_type": "markdown",
      "source": [
        "## 3, 6, 8, 9, 12, 15를 리스트로 만들고 리스트의 값들중 2로 나눴을때 나머지가 0인 숫자들을 하나의 리스트에 저장하고 이를 프린트하시오(while, if문 사용)"
      ],
      "metadata": {
        "id": "VvW9_tKyuPH-"
      }
    },
    {
      "cell_type": "code",
      "source": [
        "a = [3,6,8,9,12,15]\n",
        "b = []\n",
        "\n",
        "i = 0\n",
        "while i < len(a):\n",
        "  i += 1\n",
        "  if i % 2 == 0:\n",
        "    b.append(i)\n",
        "\n",
        "  \n",
        "print(b)"
      ],
      "metadata": {
        "colab": {
          "base_uri": "https://localhost:8080/"
        },
        "id": "7fS1BrUhuJRz",
        "outputId": "9df70a0d-e377-4ccc-ba47-1f13a88f3c64"
      },
      "execution_count": null,
      "outputs": [
        {
          "output_type": "stream",
          "name": "stdout",
          "text": [
            "[2, 4, 6]\n"
          ]
        }
      ]
    },
    {
      "cell_type": "markdown",
      "source": [
        "##6, 12, 18, 20, 24, 30의 값을 하나의 리스트로 만들고 2의 배수와 3의 배수에 모두 해당하는 값을 하나의 리스트에 저장해 프린트하시오"
      ],
      "metadata": {
        "id": "lE73l5h_sDjq"
      }
    },
    {
      "cell_type": "code",
      "source": [
        "a = [6, 12, 18, 20, 24, 30]\n",
        "b = []\n",
        "\n",
        "for i in a:\n",
        "  if i % 2 == 0 and i % 3 == 0:\n",
        "    b.append(i)\n",
        "\n",
        "print(b)"
      ],
      "metadata": {
        "colab": {
          "base_uri": "https://localhost:8080/"
        },
        "id": "g1AqH1oziZLI",
        "outputId": "9d90e7db-96ec-454a-b970-6cdadfaf9d3b"
      },
      "execution_count": null,
      "outputs": [
        {
          "output_type": "stream",
          "name": "stdout",
          "text": [
            "[6, 12, 18, 24, 30]\n"
          ]
        }
      ]
    },
    {
      "cell_type": "markdown",
      "source": [
        "## 3, 6, 8, 9, 12, 15의 값을 하나의 리스트에 저장하고 5보다 큰 값을 따로 하나의 리스트에 저장해 프린트하시오"
      ],
      "metadata": {
        "id": "QQ2XAzCktta0"
      }
    },
    {
      "cell_type": "code",
      "source": [
        "a = [3, 6, 8, 9, 12, 15]\n",
        "b =[]\n",
        "for i in a:\n",
        "  if i >5:\n",
        "    b.append(i)\n",
        "\n",
        "print(b)"
      ],
      "metadata": {
        "colab": {
          "base_uri": "https://localhost:8080/"
        },
        "id": "1mVKXFX4iidL",
        "outputId": "ce23faf6-9451-4c69-eea9-d1c00f0d92a5"
      },
      "execution_count": null,
      "outputs": [
        {
          "output_type": "stream",
          "name": "stdout",
          "text": [
            "[6, 8, 9, 12, 15]\n"
          ]
        }
      ]
    },
    {
      "cell_type": "markdown",
      "source": [
        "## apple, banana, orange, pear, kiwi를 리스트에 저장하고, 단어의 길이가 5이상인 단어들만 하나의 리스트에 저장하고 이를 프린트하시오(for, if문 사용)"
      ],
      "metadata": {
        "id": "E2XkCWNuq9kH"
      }
    },
    {
      "cell_type": "code",
      "source": [
        "f = [\"apple\", \"banana\", \"orange\", \"pear\", \"kiwi\"]\n",
        "a = []\n",
        "for i in f:\n",
        "  if len(i) > 5:\n",
        "    a.append(i)\n",
        "\n",
        "print(a)"
      ],
      "metadata": {
        "colab": {
          "base_uri": "https://localhost:8080/"
        },
        "id": "ykjKWGAbiSr_",
        "outputId": "46ea05e6-3730-4ccb-82a1-804064234675"
      },
      "execution_count": null,
      "outputs": [
        {
          "output_type": "stream",
          "name": "stdout",
          "text": [
            "['banana', 'orange']\n"
          ]
        }
      ]
    },
    {
      "cell_type": "markdown",
      "source": [
        "## apple, banana, orange, pear, kiwi를 하나의 리스트로 만들고 e가 포함된 단어들만 따로 하나의 리스트에 저장해 프린트하시오(for, if문 사용)"
      ],
      "metadata": {
        "id": "t9yb17fntS5I"
      }
    },
    {
      "cell_type": "code",
      "source": [
        "f = [\"apple\", \"banana\", \"orange\", \"pear\", \"kiwi\"]\n",
        "a = []\n",
        "for i in f:\n",
        "  if 'e' in i:\n",
        "    a.append(i)\n",
        "\n",
        "print(a)"
      ],
      "metadata": {
        "colab": {
          "base_uri": "https://localhost:8080/"
        },
        "id": "d489vUvgiZIA",
        "outputId": "ad6faf62-6fd2-4397-dce9-00a1f55aca1f"
      },
      "execution_count": null,
      "outputs": [
        {
          "output_type": "stream",
          "name": "stdout",
          "text": [
            "['apple', 'orange', 'pear']\n"
          ]
        }
      ]
    },
    {
      "cell_type": "markdown",
      "source": [
        "##John, Jane, David, Jessica, Josh를 리스트에 저장하고, 이름 처음 시작하는 단어가 J인 이름만 하나의 리스트에 저장하고 이를 프린트하시오(for, if문 사용)"
      ],
      "metadata": {
        "id": "XACAVhx0srPS"
      }
    },
    {
      "cell_type": "code",
      "source": [
        "n = [\"John\", \"Jane\", \"David\", \"Jessica\", \"Josh\"]\n",
        "a=[]\n",
        "for i in n:\n",
        "  if 'J' in i:\n",
        "    a.append(i)\n",
        "print(a)"
      ],
      "metadata": {
        "colab": {
          "base_uri": "https://localhost:8080/"
        },
        "id": "95uX5YnVshha",
        "outputId": "4f76e3c6-32b5-4139-a5b7-f159cb8a9e5d"
      },
      "execution_count": null,
      "outputs": [
        {
          "output_type": "stream",
          "name": "stdout",
          "text": [
            "['John', 'Jane', 'Jessica', 'Josh']\n"
          ]
        }
      ]
    },
    {
      "cell_type": "markdown",
      "source": [
        "##숫자 2, 14, 5, 7, 11, 9, 12, 15를 리스트로 만들고 리스트에서 10보다 크거나 2로 나눴을때 나머지가 1이 나오는 숫자만 프린트하시오(while, if 사용)"
      ],
      "metadata": {
        "id": "ekfPczCUp3TX"
      }
    },
    {
      "cell_type": "code",
      "source": [
        "numbers = [2, 14, 5, 7, 11, 9, 12, 15]\n",
        "i = 0\n",
        "\n",
        "while  i < len(numbers):\n",
        "    if numbers[i] > 10 and numbers[i] % 2 == 1:\n",
        "        print(numbers[i])\n",
        "    i += 1"
      ],
      "metadata": {
        "colab": {
          "base_uri": "https://localhost:8080/"
        },
        "id": "DlW-sde3BQX6",
        "outputId": "94b1d260-d6b6-458f-899a-866f516e8cc2"
      },
      "execution_count": null,
      "outputs": [
        {
          "output_type": "stream",
          "name": "stdout",
          "text": [
            "11\n",
            "15\n"
          ]
        }
      ]
    },
    {
      "cell_type": "markdown",
      "source": [
        "##하나의 빈 리스트를 만들고 input값을 넣었을때 이 input값이 양수이면 input값을 빈 리스트에 추가하고 음수이면 동작을 끝내고 리스트에 추가된 값들을 더해 프린트해라(while, if, break사용)\n",
        "\n",
        "* 리스트의 모든 숫자를 더하는 함수 sum(리스트)"
      ],
      "metadata": {
        "id": "MRi4W3AqxJ3Z"
      }
    },
    {
      "cell_type": "code",
      "source": [
        "a = []\n",
        "\n",
        "while 1:\n",
        "  num = int(input(\"숫자를 입력해 주세요 : \"))\n",
        "  if num > 0:\n",
        "    a.append(num)\n",
        "  elif num < 0:\n",
        "    break\n",
        "\n",
        "print((f\"입력한 숫자의 모든 합은 : {sum(a)}\"))"
      ],
      "metadata": {
        "colab": {
          "base_uri": "https://localhost:8080/"
        },
        "id": "CA9zS_yZwFiT",
        "outputId": "bccc2c8d-4b93-47ea-cfaa-0b337c08d034"
      },
      "execution_count": null,
      "outputs": [
        {
          "output_type": "stream",
          "name": "stdout",
          "text": [
            "숫자를 입력해 주세요 : 45\n",
            "숫자를 입력해 주세요 : 22\n",
            "숫자를 입력해 주세요 : -8\n",
            "입력한 숫자의 모든 합은 : 67\n"
          ]
        }
      ]
    },
    {
      "cell_type": "markdown",
      "source": [
        "## password라는 변수에 특정 문자를 부여하고 해당 input()함수를 활용해 password에 해당되는 문자가 정확하게 입력 되었을 때, 로그인되었습니다. 라는 문장을 프린트후 while문을 종료해라 만약에 문자가 정확하게 입력되지 않으면 잘못된 패스워드 입니다. 라는 문장을 프린트해라(while, if, break 사용)"
      ],
      "metadata": {
        "id": "Mr5pvs5IyuRU"
      }
    },
    {
      "cell_type": "code",
      "source": [
        "password = \"sungil\"\n",
        "while 1:\n",
        "  pw = input(\"패스워드를 입력해 주세요 : \")\n",
        "  if pw == password:\n",
        "    print(\"로그인 되었습니다.\")\n",
        "    break\n",
        "  else:\n",
        "    print(\"잘못된 패스워드 입니다.\")\n",
        "    break"
      ],
      "metadata": {
        "colab": {
          "base_uri": "https://localhost:8080/"
        },
        "id": "WeMeErG5yAJ9",
        "outputId": "cf496146-1b4e-4ad2-ce34-b7b32e30f490"
      },
      "execution_count": null,
      "outputs": [
        {
          "output_type": "stream",
          "name": "stdout",
          "text": [
            "패스워드를 입력해 주세요 : xcz04182763\n",
            "잘못된 패스워드 입니다.\n"
          ]
        }
      ]
    },
    {
      "cell_type": "code",
      "source": [],
      "metadata": {
        "id": "TCLbQ9CYzpPV"
      },
      "execution_count": null,
      "outputs": []
    }
  ]
}