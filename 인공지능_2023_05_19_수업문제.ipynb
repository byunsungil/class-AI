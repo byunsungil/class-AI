{
  "cells": [
    {
      "cell_type": "markdown",
      "metadata": {
        "id": "view-in-github",
        "colab_type": "text"
      },
      "source": [
        "<a href=\"https://colab.research.google.com/github/byunsungil/AI01/blob/main/%EC%9D%B8%EA%B3%B5%EC%A7%80%EB%8A%A5_2023_05_19_%EC%88%98%EC%97%85%EB%AC%B8%EC%A0%9C.ipynb\" target=\"_parent\"><img src=\"https://colab.research.google.com/assets/colab-badge.svg\" alt=\"Open In Colab\"/></a>"
      ]
    },
    {
      "cell_type": "markdown",
      "metadata": {
        "id": "-1MqfZR6YfUq"
      },
      "source": [
        "# 특정 문장을 입력했을때, 아래와 같은 결과가 나오게 만드시오(모음 : a, e, i, o, u)\n",
        "(6줄 이하)"
      ]
    },
    {
      "cell_type": "markdown",
      "metadata": {
        "id": "xiz7hs_Tqm5R"
      },
      "source": [
        "ai class is so much fun\n",
        "모음의 수는 : 7개"
      ]
    },
    {
      "cell_type": "code",
      "execution_count": null,
      "metadata": {
        "colab": {
          "base_uri": "https://localhost:8080/"
        },
        "id": "fjASyjD1WxWP",
        "outputId": "900c7801-58bd-421a-d591-7fe1161eac08"
      },
      "outputs": [
        {
          "name": "stdout",
          "output_type": "stream",
          "text": [
            "ai class is so much fun\n",
            "ai class is so much fun 모음의 수는 : 7개\n"
          ]
        }
      ],
      "source": [
        "a = input()\n",
        "n = 0\n",
        "for i in a:\n",
        "    if \"a\" in i or \"e\" in i or \"i\" in i or \"o\" in i or \"u\" in i:\n",
        "        n += 1\n",
        "print(f\"{a} 모음의 수는 : {n}개\")"
      ]
    },
    {
      "cell_type": "markdown",
      "metadata": {
        "id": "47ea4f9dZrxu"
      },
      "source": [
        "# 2000, 2021, 2100, 2024, 1996의 값을 하나의 리스트로 만들고 윤년일 경우와 아닐경우를 아래와 같이 나타내시오 (4로 나누어 떨어지거나, 100으로 나누어 떨어지거나, 400으로 나누어 떨어지는 년도)\n",
        "(6줄 이하)"
      ]
    },
    {
      "cell_type": "code",
      "execution_count": null,
      "metadata": {
        "id": "VjT_ItLPqm5V",
        "outputId": "57f147ba-1d39-4883-bf85-8a1d2d2138cf"
      },
      "outputs": [
        {
          "name": "stdout",
          "output_type": "stream",
          "text": [
            "2000는 윤년입니다.\n",
            "2021는 윤년이 아닙니다.\n",
            "2100는 윤년입니다.\n",
            "2024는 윤년입니다.\n",
            "1996는 윤년입니다.\n"
          ]
        }
      ],
      "source": [
        "  year = [2000, 2021, 2100, 2024, 1996]\n",
        "for i in year:\n",
        "    if i % 4 == 0 or i % 100 == 0 or i % 400 == 0:\n",
        "        print(f\"{i}는 윤년입니다.\")\n",
        "    else:\n",
        "        print(f\"{i}는 윤년이 아닙니다.\")"
      ]
    },
    {
      "cell_type": "markdown",
      "metadata": {
        "id": "A5Fsdyy7o8AA"
      },
      "source": [
        "# 아래와 같은 코드를 작성하시오 \n",
        "(6줄 이하)"
      ]
    },
    {
      "cell_type": "code",
      "execution_count": null,
      "metadata": {
        "id": "ue41oPN4qm5X",
        "outputId": "81242278-edab-45f3-b6ed-47057ed8ee7f"
      },
      "outputs": [
        {
          "name": "stdout",
          "output_type": "stream",
          "text": [
            "정수를 입력하세요 : 5\n",
            "정수를 입력하세요 : 20\n",
            "정수를 입력하세요 : 31\n",
            "정수를 입력하세요 : 50\n",
            "정수를 입력하세요 : 100\n",
            "정수를 입력하세요 : 70\n",
            "정수를 입력하세요 : 80\n",
            "정수를 입력하세요 : 90\n",
            "정수를 입력하세요 : 22\n",
            "정수를 입력하세요 : 447\n",
            "5의 배수의 리스트는 : [5, 20, 50, 100, 70, 80, 90]입니다.\n"
          ]
        }
      ],
      "source": [
        "five = []\n",
        "for i in range(0, 10):\n",
        "    num = int(input(\"정수를 입력하세요 : \"))\n",
        "    if num % 5 == 0:\n",
        "        five.append(num)\n",
        "print(f\"5의 배수의 리스트는 : {five}입니다.\")"
      ]
    },
    {
      "cell_type": "code",
      "execution_count": null,
      "metadata": {
        "colab": {
          "base_uri": "https://localhost:8080/"
        },
        "id": "DSLbQiOvYSCf",
        "outputId": "87421f2c-68c3-4c0b-e3c2-2a9492f0f5b4"
      },
      "outputs": [
        {
          "name": "stdout",
          "output_type": "stream",
          "text": [
            "정수를 입력하세요 : 5\n",
            "정수를 입력하세요 : 20\n",
            "정수를 입력하세요 : 31\n",
            "정수를 입력하세요 : 50\n",
            "정수를 입력하세요 : 100\n",
            "정수를 입력하세요 : 70\n",
            "정수를 입력하세요 : 80\n",
            "정수를 입력하세요 : 90\n",
            "정수를 입력하세요 : 22\n",
            "정수를 입력하세요 : 447\n",
            "5의 배수의 리스트는 : [5, 20, 50, 100, 70, 80, 90] 입니다.\n"
          ]
        }
      ],
      "source": []
    },
    {
      "cell_type": "markdown",
      "metadata": {
        "id": "DEkbX1u1pWp5"
      },
      "source": [
        "# 리스트에 라면, 3000, 생수, 2500, 과자,1500, 삼각김밥, 1000을 저장하고 아래와 같이 나타내시오\n",
        "(10줄 이하) for문 if문 무조껀 사용"
      ]
    },
    {
      "cell_type": "code",
      "execution_count": null,
      "metadata": {
        "id": "ZZ_mMHSxqm5Y",
        "outputId": "e64e724e-32c4-49e7-d220-f90ad2a3414f"
      },
      "outputs": [
        {
          "name": "stdout",
          "output_type": "stream",
          "text": [
            "['라면', '생수', '과자', '삼각김밥']\n",
            "[3000, 2500, 1500, 1000]\n"
          ]
        }
      ],
      "source": [
        "menu = [\"라면\", 3000, \"생수\", 2500, \"과자\", 1500, \"삼각김밥\", 1000]\n",
        "name = []\n",
        "price = []\n",
        "for i in menu:\n",
        "    if type(i) == str:\n",
        "        name.append(i)\n",
        "    else:\n",
        "        price.append(i)\n",
        "print(name)\n",
        "print(price)"
      ]
    },
    {
      "cell_type": "markdown",
      "metadata": {
        "id": "EbSdnHX6Pepm"
      },
      "source": [
        "## 1번의 딕셔너리 값을 2번 값으로 변경하시오\n",
        "단 새로운 딕셔너리를 만들어서 변경할순없다."
      ]
    },
    {
      "cell_type": "code",
      "execution_count": null,
      "metadata": {
        "id": "iI6M5_Dlqm5Z",
        "outputId": "b17ed457-d1f5-48b0-f857-fecaaee3e37b"
      },
      "outputs": [
        {
          "data": {
            "text/plain": [
              "{'name': 'John', 'age': 20, 'grade': 'A'}"
            ]
          },
          "execution_count": 36,
          "metadata": {},
          "output_type": "execute_result"
        }
      ],
      "source": [
        "info = {\"name\" : \"John\", \"age\" : 20, \"grade\" : \"A\"}\n",
        "info"
      ]
    },
    {
      "cell_type": "code",
      "execution_count": null,
      "metadata": {
        "id": "F_cMduSQqm5a",
        "outputId": "8a4d34a5-54e5-4c86-93be-033ec27bee53"
      },
      "outputs": [
        {
          "data": {
            "text/plain": [
              "{'name': 'John', 'age': 21, 'city': 'New York'}"
            ]
          },
          "execution_count": 37,
          "metadata": {},
          "output_type": "execute_result"
        }
      ],
      "source": [
        "  info[\"age\"] = 21\n",
        "del info[\"grade\"]\n",
        "info[\"city\"] =  \"New York\"\n",
        "info"
      ]
    },
    {
      "cell_type": "code",
      "execution_count": null,
      "metadata": {
        "id": "Lc57C5Tyqm5b"
      },
      "outputs": [],
      "source": [
        "age"
      ]
    },
    {
      "cell_type": "code",
      "execution_count": null,
      "metadata": {
        "colab": {
          "base_uri": "https://localhost:8080/"
        },
        "id": "5Qf_ugxMPPYY",
        "outputId": "e93281d8-0e0f-42e7-fb45-44da031e5aa7"
      },
      "outputs": [
        {
          "data": {
            "text/plain": [
              "{'name': 'John', 'age': 21, 'city': 'New York'}"
            ]
          },
          "execution_count": 8,
          "metadata": {},
          "output_type": "execute_result"
        }
      ],
      "source": []
    },
    {
      "cell_type": "code",
      "execution_count": null,
      "metadata": {
        "id": "f1i_08jwqm5d"
      },
      "outputs": [],
      "source": []
    }
  ],
  "metadata": {
    "colab": {
      "provenance": [],
      "include_colab_link": true
    },
    "kernelspec": {
      "display_name": "Python 3 (ipykernel)",
      "language": "python",
      "name": "python3"
    },
    "language_info": {
      "codemirror_mode": {
        "name": "ipython",
        "version": 3
      },
      "file_extension": ".py",
      "mimetype": "text/x-python",
      "name": "python",
      "nbconvert_exporter": "python",
      "pygments_lexer": "ipython3",
      "version": "3.9.13"
    }
  },
  "nbformat": 4,
  "nbformat_minor": 0
}