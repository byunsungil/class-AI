{
  "nbformat": 4,
  "nbformat_minor": 0,
  "metadata": {
    "colab": {
      "provenance": [],
      "include_colab_link": true
    },
    "kernelspec": {
      "name": "python3",
      "display_name": "Python 3"
    },
    "language_info": {
      "name": "python"
    }
  },
  "cells": [
    {
      "cell_type": "markdown",
      "metadata": {
        "id": "view-in-github",
        "colab_type": "text"
      },
      "source": [
        "<a href=\"https://colab.research.google.com/github/byunsungil/AI01/blob/main/%EC%9D%B8%EA%B3%B5%EC%A7%80%EB%8A%A5_0411%EC%88%98%EC%97%85_%EB%AC%B8%EC%A0%9C.ipynb\" target=\"_parent\"><img src=\"https://colab.research.google.com/assets/colab-badge.svg\" alt=\"Open In Colab\"/></a>"
      ]
    },
    {
      "cell_type": "markdown",
      "source": [
        "##a라는 변수에 숫자 20을 할당하고, b라는 변수에 숫자 30을 할당해 a와 b의 합을 프린트하시오"
      ],
      "metadata": {
        "id": "UH86qe8ROgA2"
      }
    },
    {
      "cell_type": "code",
      "source": [
        "def x(a,b):\n",
        "  c=a+b\n",
        "  print(c)\n",
        "  \n",
        "x(20,30)"
      ],
      "metadata": {
        "colab": {
          "base_uri": "https://localhost:8080/"
        },
        "id": "5iutb_zrOQB0",
        "outputId": "10deec1f-83ea-40e3-c493-cf8571da35c7"
      },
      "execution_count": null,
      "outputs": [
        {
          "output_type": "stream",
          "name": "stdout",
          "text": [
            "50\n"
          ]
        }
      ]
    },
    {
      "cell_type": "markdown",
      "source": [
        "##아래의 문장을 변수에 저장하고 저장된 변수에서 인공지능이라는 단어만 프린트하시오\n",
        "\n",
        "*   안녕하세요 인공지능 수업에 오신것을 환영합니다. "
      ],
      "metadata": {
        "id": "QHKJX5ghOfjr"
      }
    },
    {
      "cell_type": "code",
      "source": [
        "A = \"안녕하세요 인공지능 수업에 오신것을 환영합니다.\"\n",
        "A[6:10]"
      ],
      "metadata": {
        "id": "G00R5VXpOuJs",
        "colab": {
          "base_uri": "https://localhost:8080/",
          "height": 35
        },
        "outputId": "d8020e87-a0c7-499f-e63e-ae3f9abfc753"
      },
      "execution_count": null,
      "outputs": [
        {
          "output_type": "execute_result",
          "data": {
            "text/plain": [
              "'인공지능'"
            ],
            "application/vnd.google.colaboratory.intrinsic+json": {
              "type": "string"
            }
          },
          "metadata": {},
          "execution_count": 8
        }
      ]
    },
    {
      "cell_type": "code",
      "source": [],
      "metadata": {
        "colab": {
          "base_uri": "https://localhost:8080/",
          "height": 35
        },
        "id": "LE7FlhLkOP_X",
        "outputId": "34aae0b1-f1e9-4bb7-b5f4-8f6c750c25b0"
      },
      "execution_count": null,
      "outputs": [
        {
          "output_type": "execute_result",
          "data": {
            "text/plain": [
              "'인공지능'"
            ],
            "application/vnd.google.colaboratory.intrinsic+json": {
              "type": "string"
            }
          },
          "metadata": {},
          "execution_count": 16
        }
      ]
    },
    {
      "cell_type": "markdown",
      "source": [
        "##특정 문자를 입력받아 변수로 저장하는 방법으로 자신의 이름을 입력후 저장하고, 아래의 문장과 같이 format을 사용해 프린트 하시오"
      ],
      "metadata": {
        "id": "YyOPq28gPFa2"
      }
    },
    {
      "cell_type": "code",
      "source": [
        "name = input()\n",
        "print(\"안녕하세요 {}님 인공지능 수업에 오신것을 환영합니다\".format(name))"
      ],
      "metadata": {
        "colab": {
          "base_uri": "https://localhost:8080/"
        },
        "id": "vR-ZST6kOP8p",
        "outputId": "442e0eba-50a8-40bb-989e-371cd54fa42b"
      },
      "execution_count": null,
      "outputs": [
        {
          "output_type": "stream",
          "name": "stdout",
          "text": [
            "변성일\n",
            "안녕하세요 변성일님 인공지능 수업에 오신것을 환영합니다\n"
          ]
        }
      ]
    },
    {
      "cell_type": "markdown",
      "source": [
        "#아래의 값들을 하나의 리스트에 저장하고, 리스트를 프린트하시오\n",
        "\n",
        "\n",
        "*   1,5,5,7,3,6,88,12,5,74,4,8,64,2,7,89,33,1,6,8,1,5,6,7\n"
      ],
      "metadata": {
        "id": "P4qBWf5nPxnk"
      }
    },
    {
      "cell_type": "code",
      "source": [
        "B = [1,5,5,7,3,6,88,12,5,74,4,8,64,2,7,89,33,1,6,8,1,5,6,7]\n",
        "B"
      ],
      "metadata": {
        "colab": {
          "base_uri": "https://localhost:8080/"
        },
        "id": "xpNvlAPjOP5l",
        "outputId": "342d36d2-15d4-40d5-957d-a3f7bfb7c19e"
      },
      "execution_count": null,
      "outputs": [
        {
          "output_type": "execute_result",
          "data": {
            "text/plain": [
              "[1, 5, 5, 7, 3, 6, 88, 12, 5, 74, 4, 8, 64, 2, 7, 89, 33, 1, 6, 8, 1, 5, 6, 7]"
            ]
          },
          "metadata": {},
          "execution_count": 11
        }
      ]
    },
    {
      "cell_type": "markdown",
      "source": [
        "#위에서 저장된 리스트 값중 88에 해당하는 리스트의 위치 index를 도출하시오"
      ],
      "metadata": {
        "id": "XZKVY-RKQFXs"
      }
    },
    {
      "cell_type": "code",
      "source": [
        "B.index(88)"
      ],
      "metadata": {
        "colab": {
          "base_uri": "https://localhost:8080/"
        },
        "id": "XATdVchKOP2z",
        "outputId": "a97686d7-c94f-4522-c4c4-0fa18e10957c"
      },
      "execution_count": null,
      "outputs": [
        {
          "output_type": "execute_result",
          "data": {
            "text/plain": [
              "6"
            ]
          },
          "metadata": {},
          "execution_count": 12
        }
      ]
    },
    {
      "cell_type": "markdown",
      "source": [
        "##주어진 이름 Jone-30, Park-30, Kim-20, Lee-10, Oh-32, Kang-25을 name이란 리스트를 만들고 Lee를 가진 사람의 성만 따로 도출하시오"
      ],
      "metadata": {
        "id": "IeCbj6RdS7XI"
      }
    },
    {
      "cell_type": "code",
      "source": [
        "name = [\"Jone-30\", \"Park-30\", \"Kim-20\", \"Lee-10\", \"Oh-32\", \"Kang-25\"]\n",
        "name[3][:name[3].index(\"-\")]"
      ],
      "metadata": {
        "colab": {
          "base_uri": "https://localhost:8080/",
          "height": 35
        },
        "id": "i39jh9MTS9es",
        "outputId": "6169f0f2-ea43-4854-9bb7-75d8e5ef5d00"
      },
      "execution_count": null,
      "outputs": [
        {
          "output_type": "execute_result",
          "data": {
            "text/plain": [
              "'Lee'"
            ],
            "application/vnd.google.colaboratory.intrinsic+json": {
              "type": "string"
            }
          },
          "metadata": {},
          "execution_count": 31
        }
      ]
    },
    {
      "cell_type": "markdown",
      "source": [
        "##주어진 이름 Jone-30, Park-30, Kim-20, Lee-10, Oh-32, Kang-25 을 name이란 리스트를 만들고 리스트의 형태를 Jone/30 ....  와 같이 모두 변경하고 프린트하시오"
      ],
      "metadata": {
        "id": "cnrO1vz2R4K9"
      }
    },
    {
      "cell_type": "code",
      "source": [
        "name = [\"Jone-30\", \"Park-30\", \"Kim-20\", \"Lee-10\", \"Oh-32\", \"Kang-25\"]\n",
        "p =[]\n",
        "for i in name:\n",
        "    p.append(i.replace(\"-\",\"/\"))\n",
        "p"
      ],
      "metadata": {
        "colab": {
          "base_uri": "https://localhost:8080/"
        },
        "id": "Y_9vKC0ER35o",
        "outputId": "222e377c-757b-475a-b55e-8ff183c5a8b1"
      },
      "execution_count": null,
      "outputs": [
        {
          "output_type": "execute_result",
          "data": {
            "text/plain": [
              "['Jone/30', 'Park/30', 'Kim/20', 'Lee/10', 'Oh/32', 'Kang/25']"
            ]
          },
          "metadata": {},
          "execution_count": 8
        }
      ]
    },
    {
      "cell_type": "markdown",
      "source": [
        "##하나의 폴더에 아래와 같은 형식을 가진 파일들이 있다. 이때 jpg와 png파일만 뽑아 리스트로 프린트하시오 만약에 jpg와 png파일이 아닐 경우 아래와 같이 프린트하시오\n",
        "\n",
        "\n",
        "\n",
        "*   dog.png, dog2.png, dog3.jpg, test.pdf, file.py, homework.pptx, jpg.pptx, png2.pptx\n",
        "\n",
        "\n",
        "*   test.pdf은 jpg, png파일에 포함되지 않습니다.\n",
        "\n"
      ],
      "metadata": {
        "id": "PPBQ6SaJTUP1"
      }
    },
    {
      "cell_type": "code",
      "source": [
        "file = [\"dog.png\", \"dog2.png\", \"dog3.jpg\", \"test.pdf\", \"file.py\", \"homework.pptx\", \"jpg.pptx\", \"png2.pptx\"]\n",
        "a =[]\n",
        "for i in file:\n",
        "    if \".jpg\" in i:\n",
        "        a.append(i)\n",
        "    elif \".png\" in i:\n",
        "        a.append(i)\n",
        "    else:\n",
        "        print(f\"{i}은 포함되지 않습니다.\")\n",
        "    \n",
        "print(a)\n"
      ],
      "metadata": {
        "colab": {
          "base_uri": "https://localhost:8080/"
        },
        "id": "epbMUjevT2Vf",
        "outputId": "dac28fb0-f88d-4ba6-8a2f-63f2458aa3ca"
      },
      "execution_count": null,
      "outputs": [
        {
          "output_type": "stream",
          "name": "stdout",
          "text": [
            "test.pdf은 포함되지 않습니다.\n",
            "file.py은 포함되지 않습니다.\n",
            "homework.pptx은 포함되지 않습니다.\n",
            "jpg.pptx은 포함되지 않습니다.\n",
            "png2.pptx은 포함되지 않습니다.\n",
            "['dog.png', 'dog2.png', 'dog3.jpg']\n"
          ]
        }
      ]
    },
    {
      "cell_type": "code",
      "source": [],
      "metadata": {
        "colab": {
          "base_uri": "https://localhost:8080/",
          "height": 35
        },
        "id": "7Vrj2HQdDd9u",
        "outputId": "13a0995d-1365-4fc8-c1f2-cc734ecb6c8f"
      },
      "execution_count": null,
      "outputs": [
        {
          "output_type": "execute_result",
          "data": {
            "text/plain": [
              "'.png'"
            ],
            "application/vnd.google.colaboratory.intrinsic+json": {
              "type": "string"
            }
          },
          "metadata": {},
          "execution_count": 47
        }
      ]
    },
    {
      "cell_type": "markdown",
      "source": [
        "##위의 리스트에서 50보다 큰 숫자들만 뽑아 하나의 리스트에 저장하고 프린트하고 50보다 작은 숫자들은 또다른 리스트에 저장하시오"
      ],
      "metadata": {
        "id": "MVblcgXhQYI4"
      }
    },
    {
      "cell_type": "code",
      "source": [
        "n = [1,5,5,7,3,6,88,12,5,74,4,8,64,2,7,89,33,1,6,8,1,5,6,7]"
      ],
      "metadata": {
        "id": "gh9s8H0iOPwd"
      },
      "execution_count": null,
      "outputs": []
    },
    {
      "cell_type": "code",
      "source": [
        "a=[]\n",
        "b=[]\n",
        "for i in n:\n",
        "    if i > 50:\n",
        "        a.append(i)\n",
        "    else:\n",
        "        b.append(i)\n",
        "print(a)\n",
        "print(b)\n",
        "        "
      ],
      "metadata": {
        "colab": {
          "base_uri": "https://localhost:8080/"
        },
        "id": "oMujfbi-RWey",
        "outputId": "aab83608-0e32-4d2a-f9a3-b216ad3ec206"
      },
      "execution_count": null,
      "outputs": [
        {
          "output_type": "stream",
          "name": "stdout",
          "text": [
            "[88, 74, 64, 89]\n",
            "[1, 5, 5, 7, 3, 6, 12, 5, 4, 8, 2, 7, 33, 1, 6, 8, 1, 5, 6, 7]\n"
          ]
        }
      ]
    },
    {
      "cell_type": "markdown",
      "source": [
        "##하나의 빈 리스트를 만들고 아래의 값을 넣었을때 양수이면 빈 리스트에 추가하고 음수이면 이를 무시해 양수만 저장되어 있는 리스트의 값들을 모두 더해 프린트해라(while, if, continue사용)\n",
        "\n",
        "\n",
        "*   20,50,51,6,74,2,67,-5,-10,-50,-56,-19,55"
      ],
      "metadata": {
        "id": "jeYQ5NsWRkcm"
      }
    },
    {
      "cell_type": "code",
      "source": [
        "a = [20, 50, 51, 6, 74, 2, 67, -5, -10, -50, -56, -19, 55]\n",
        "e = []\n",
        "i = 0\n",
        "\n",
        "while i < len(a):\n",
        "    if a[i] <= 0:\n",
        "        i += 1\n",
        "        continue\n",
        "    e.append(a[i])\n",
        "    i += 1\n",
        "\n",
        "print(sum(e))\n"
      ],
      "metadata": {
        "colab": {
          "base_uri": "https://localhost:8080/"
        },
        "id": "vtUGoFxuRajG",
        "outputId": "64ee3a5c-8712-4cad-d24c-ee8cd5500fad"
      },
      "execution_count": null,
      "outputs": [
        {
          "output_type": "stream",
          "name": "stdout",
          "text": [
            "325\n"
          ]
        }
      ]
    },
    {
      "cell_type": "markdown",
      "source": [
        "##3개의 값을 넣었을때 값들을 모두 제곱해 더한 결과를 도출하는 함수를 만드시오  "
      ],
      "metadata": {
        "id": "4Hb8q-jDXA18"
      }
    },
    {
      "cell_type": "code",
      "source": [
        "def x(a,b,c):\n",
        "  d = a**2+b**2+c**2\n",
        "  print(d)\n",
        "x(2,2,2)"
      ],
      "metadata": {
        "id": "37Rtaw23XUQ1",
        "colab": {
          "base_uri": "https://localhost:8080/"
        },
        "outputId": "4db1a4bd-e377-4b07-e6fe-d943b0feb396"
      },
      "execution_count": null,
      "outputs": [
        {
          "output_type": "stream",
          "name": "stdout",
          "text": [
            "12\n"
          ]
        }
      ]
    },
    {
      "cell_type": "code",
      "source": [],
      "metadata": {
        "colab": {
          "base_uri": "https://localhost:8080/"
        },
        "id": "OVWpgUUCXcRn",
        "outputId": "f6dcd6a1-94d9-432f-db20-e2a0112e4c6f"
      },
      "execution_count": null,
      "outputs": [
        {
          "output_type": "execute_result",
          "data": {
            "text/plain": [
              "4"
            ]
          },
          "metadata": {},
          "execution_count": 28
        }
      ]
    },
    {
      "cell_type": "code",
      "source": [
        "menu = {\n",
        "    \"햄버거\": 15000,\n",
        "    \"피자\": 22000,\n",
        "    \"음료\": 2000,\n",
        "    \"감자튀김\": 5000\n",
        "}\n",
        "\n",
        "total_price = 0\n",
        "\n",
        "print(\"어서오세요 AI 식당입니다.\")\n",
        "while True:\n",
        "    print(\"------------------------------------------------------------\")\n",
        "    print(\"햄버거: 15000원\")\n",
        "    print(\"피자: 22000원\")\n",
        "    print(\"음료: 2000원\")\n",
        "    print(\"감자튀김: 5000원\")\n",
        "    order = input(\"구매하고싶은 품목을 선택해주세요 (or done to exit): \")\n",
        "    if order == \"done\":\n",
        "        break\n",
        "    elif order in menu:\n",
        "        count = int(input(\"구매하실 수량을 입력해주세요 : \"))\n",
        "        total_price += menu[order] * count\n",
        "        print(f\"현재 총 구매 금액은 {total_price}원 입니다.\")\n",
        "    else:\n",
        "        print(\"잘못된 입력입니다. 다시 입력해주세요.\")\n",
        "\n",
        "payment = int(input(\"귀하의 총 구매금액은 :{}원 입니다.\\n금액을 투입하세요 : \".format(total_price)))\n",
        "change = payment - total_price\n",
        "\n",
        "print(\"투입금액은 {}원 이고, 거스름돈은 {}원 입니다.\".format(payment, change))\n",
        "print(\"감사합니다 안녕히 가세요\")"
      ],
      "metadata": {
        "colab": {
          "base_uri": "https://localhost:8080/"
        },
        "id": "_Ex1mhEElWfo",
        "outputId": "0ba49814-da3e-42fe-d4ba-fe264d5271b5"
      },
      "execution_count": null,
      "outputs": [
        {
          "output_type": "stream",
          "name": "stdout",
          "text": [
            "어서오세요 AI 식당입니다.\n",
            "------------------------------------------------------------\n",
            "햄버거: 15000원\n",
            "피자: 22000원\n",
            "음료: 2000원\n",
            "감자튀김: 5000원\n",
            "구매하고싶은 품목을 선택해주세요 (or done to exit): 햄버거\n",
            "구매하실 수량을 입력해주세요 : 3\n",
            "현재 총 구매 금액은 45000원 입니다.\n",
            "------------------------------------------------------------\n",
            "햄버거: 15000원\n",
            "피자: 22000원\n",
            "음료: 2000원\n",
            "감자튀김: 5000원\n",
            "구매하고싶은 품목을 선택해주세요 (or done to exit): 음료\n",
            "구매하실 수량을 입력해주세요 : 3\n",
            "현재 총 구매 금액은 51000원 입니다.\n",
            "------------------------------------------------------------\n",
            "햄버거: 15000원\n",
            "피자: 22000원\n",
            "음료: 2000원\n",
            "감자튀김: 5000원\n",
            "구매하고싶은 품목을 선택해주세요 (or done to exit): 감자튀김\n",
            "구매하실 수량을 입력해주세요 : 3\n",
            "현재 총 구매 금액은 66000원 입니다.\n",
            "------------------------------------------------------------\n",
            "햄버거: 15000원\n",
            "피자: 22000원\n",
            "음료: 2000원\n",
            "감자튀김: 5000원\n",
            "구매하고싶은 품목을 선택해주세요 (or done to exit): done\n",
            "귀하의 총 구매금액은 :66000원 입니다.\n",
            "금액을 투입하세요 : 700000\n",
            "투입금액은 700000원 이고, 거스름돈은 634000원 입니다.\n",
            "감사합니다 안녕히 가세요\n"
          ]
        }
      ]
    },
    {
      "cell_type": "code",
      "source": [
        "menu = {'햄버거': 15000, '피자': 22000, '음료': 2000, '감자튀김': 5000}\n",
        "\n",
        "total_price = 0\n",
        "while True:\n",
        "    print('------------------------------------------------------------')\n",
        "    print('햄버거: 15000원\\n피자: 22000원\\n음료: 2000원\\n감자튀김: 5000원')\n",
        "    item = input('구매하고싶은 품목을 선택해주세요 (or done to exit): ')\n",
        "    if item == 'done':\n",
        "        break\n",
        "    if item not in menu:\n",
        "        print('잘못된 입력입니다.')\n",
        "        continue\n",
        "    quantity = int(input('구매하실 수량을 입력해주세요 : '))\n",
        "    total_price += menu[item] * quantity\n",
        "    print('현재 총 구매 금액은 {}원 입니다.'.format(total_price))\n",
        "\n",
        "print('------------------------------------------------------------')\n",
        "print('귀하의 총 구매금액은 :{}원 입니다.'.format(total_price))\n",
        "payment = int(input('금액을 투입하세요 : '))\n",
        "change = payment - total_price\n",
        "print('투입금액은 {}원 이고, 거스름돈은 {}원 입니다.'.format(payment, change))"
      ],
      "metadata": {
        "id": "rXYbsn-qqOCq",
        "colab": {
          "base_uri": "https://localhost:8080/"
        },
        "outputId": "f1dc83f7-cc31-43ae-9558-326430208561"
      },
      "execution_count": null,
      "outputs": [
        {
          "output_type": "stream",
          "name": "stdout",
          "text": [
            "------------------------------------------------------------\n",
            "햄버거: 15000원\n",
            "피자: 22000원\n",
            "음료: 2000원\n",
            "감자튀김: 5000원\n",
            "구매하고싶은 품목을 선택해주세요 (or done to exit): 음료\n",
            "구매하실 수량을 입력해주세요 : 5\n",
            "현재 총 구매 금액은 10000원 입니다.\n",
            "------------------------------------------------------------\n",
            "햄버거: 15000원\n",
            "피자: 22000원\n",
            "음료: 2000원\n",
            "감자튀김: 5000원\n",
            "구매하고싶은 품목을 선택해주세요 (or done to exit): done\n",
            "------------------------------------------------------------\n",
            "귀하의 총 구매금액은 :10000원 입니다.\n",
            "금액을 투입하세요 : 10000\n",
            "투입금액은 10000원 이고, 거스름돈은 0원 입니다.\n"
          ]
        }
      ]
    },
    {
      "cell_type": "markdown",
      "source": [
        "## 액정 파손 -10000, 카메라 문제 -50000, 터치불량 -10000 이라 할때 핸드폰 가격을 입력했을 때 조건에 따라 가격을 책정해주는 함수를 만드시오"
      ],
      "metadata": {
        "id": "SwHw68cYGIjn"
      }
    },
    {
      "cell_type": "code",
      "source": [
        "def phone(price, is_cracked, has_camera_issue, has_touch_issue):\n",
        "    if is_cracked:\n",
        "        price -= 10000\n",
        "    if has_camera_issue:\n",
        "        price -= 50000\n",
        "    if has_touch_issue:\n",
        "        price -= 10000\n",
        "    return price\n",
        "\n",
        "phone(960000,1,0,0)"
      ],
      "metadata": {
        "id": "Syec69V6zOQj",
        "colab": {
          "base_uri": "https://localhost:8080/"
        },
        "outputId": "e2cb97c8-acf8-4e0e-9ac4-5c9f04316389"
      },
      "execution_count": null,
      "outputs": [
        {
          "output_type": "execute_result",
          "data": {
            "text/plain": [
              "950000"
            ]
          },
          "metadata": {},
          "execution_count": 20
        }
      ]
    },
    {
      "cell_type": "markdown",
      "source": [
        "##위의 문제를 함수에 *args를 써서 액정파손, 카메라 문제, 터치불량에 대해 가격을 책정할 수 있게 만드시오"
      ],
      "metadata": {
        "id": "Q0cpJmS0JAMs"
      }
    },
    {
      "cell_type": "code",
      "source": [
        "def phone(phone_price, *args):\n",
        "    for issue in args:\n",
        "        if issue == \"액정파손\":\n",
        "            phone_price -= 10000\n",
        "        elif issue == \"카메라문제\":\n",
        "            phone_price -= 50000\n",
        "        elif issue == \"터치불량\":\n",
        "            phone_price -= 10000\n",
        "    return phone_price\n"
      ],
      "metadata": {
        "id": "FgKBkV1f0WeK"
      },
      "execution_count": null,
      "outputs": []
    },
    {
      "cell_type": "code",
      "source": [
        "phone(300000,\"액정파손\",\"카메라문제\")"
      ],
      "metadata": {
        "colab": {
          "base_uri": "https://localhost:8080/"
        },
        "id": "6V5sVTAZQGZe",
        "outputId": "886d7b4d-ccd8-4720-8716-26cf57b5507a"
      },
      "execution_count": null,
      "outputs": [
        {
          "output_type": "execute_result",
          "data": {
            "text/plain": [
              "240000"
            ]
          },
          "metadata": {},
          "execution_count": 28
        }
      ]
    },
    {
      "cell_type": "code",
      "source": [],
      "metadata": {
        "id": "xBTz-xb_XrA2"
      },
      "execution_count": null,
      "outputs": []
    },
    {
      "cell_type": "code",
      "source": [],
      "metadata": {
        "id": "aCQ3YniCXq-k"
      },
      "execution_count": null,
      "outputs": []
    }
  ]
}