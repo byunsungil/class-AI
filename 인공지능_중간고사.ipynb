{
  "nbformat": 4,
  "nbformat_minor": 0,
  "metadata": {
    "colab": {
      "provenance": [],
      "include_colab_link": true
    },
    "kernelspec": {
      "name": "python3",
      "display_name": "Python 3"
    },
    "language_info": {
      "name": "python"
    }
  },
  "cells": [
    {
      "cell_type": "markdown",
      "metadata": {
        "id": "view-in-github",
        "colab_type": "text"
      },
      "source": [
        "<a href=\"https://colab.research.google.com/github/byunsungil/AI01/blob/main/%EC%9D%B8%EA%B3%B5%EC%A7%80%EB%8A%A5_%EC%A4%91%EA%B0%84%EA%B3%A0%EC%82%AC.ipynb\" target=\"_parent\"><img src=\"https://colab.research.google.com/assets/colab-badge.svg\" alt=\"Open In Colab\"/></a>"
      ]
    },
    {
      "cell_type": "markdown",
      "source": [
        "##1.cmd 창에서 AI란 이름의 가상환경을 만들고 python 3.6 version을 설치하는 명령어를 작성하시오. (5점)"
      ],
      "metadata": {
        "id": "8g7ZcpmHUv2T"
      }
    },
    {
      "cell_type": "markdown",
      "source": [
        "##2.AI라는 가상환경 생성 후 주피터 노트북에 가상환경과 같은 이름의 커널을 생성하는 명령어를 작성하시오.(패키지 설치 명령어는 제외) (5점)"
      ],
      "metadata": {
        "id": "P7d4maw1UxCC"
      }
    },
    {
      "cell_type": "markdown",
      "source": [
        "##3.input으로 아래의 문장형태에 맞게 해당 문제의 물음표에 하나의 정수값과 실수값을 입력후 format을 활용해 프린트 하시오.\n",
        "\n",
        "- 철수의 100m 달리기 기록은 ? 초 이다. (5점) → 실수값\n",
        "\n",
        "\n",
        "- 영희는 단체주문으로 햄버거 ?개를 주문했다. (5점) → 정수값"
      ],
      "metadata": {
        "id": "6Q1M0aO1U0C1"
      }
    },
    {
      "cell_type": "code",
      "source": [
        "a=float(input())\n",
        "print((\"철수의 100m 달리기 기록은{}초 이다.\").format(a))"
      ],
      "metadata": {
        "colab": {
          "base_uri": "https://localhost:8080/"
        },
        "id": "1HpJUyCEU9ky",
        "outputId": "fd17b6ac-0902-4a15-ae4c-377555ca586a"
      },
      "execution_count": null,
      "outputs": [
        {
          "output_type": "stream",
          "name": "stdout",
          "text": [
            "5\n",
            "철수의 100m 달리기 기록은5.0초 이다.\n"
          ]
        }
      ]
    },
    {
      "cell_type": "code",
      "source": [
        "a=int(input())\n",
        "print((\"영희는 단체주문으로 햄버거{}개를 주문했다.\").format(a))"
      ],
      "metadata": {
        "colab": {
          "base_uri": "https://localhost:8080/"
        },
        "id": "-WOjOQPWVn6T",
        "outputId": "1466f37f-e8e8-4272-d1bc-c13ebf106db5"
      },
      "execution_count": null,
      "outputs": [
        {
          "output_type": "stream",
          "name": "stdout",
          "text": [
            "7\n",
            "영희는 단체주문으로 햄버거7개를 주문했다.\n"
          ]
        }
      ]
    },
    {
      "cell_type": "markdown",
      "source": [
        "##4. 주어진 이름 Jone-30, Park-30, Kim-20, Lee-10, Oh-32, Kang-25을 name이란 리스트를 만들고 Lee를 가진 사람의 성만 따로 도출하시오.(10 점)"
      ],
      "metadata": {
        "id": "MKNH5QboU9Rq"
      }
    },
    {
      "cell_type": "code",
      "source": [
        "name=[\"Jone-30\", \"Park-30\", \"Kim-20\", \"Lee-10\", \"Oh-32\", \"Kang-25\"]"
      ],
      "metadata": {
        "id": "Ha4jjcxLU9aa"
      },
      "execution_count": null,
      "outputs": []
    },
    {
      "cell_type": "code",
      "source": [
        "for i in name:\n",
        "  if \"Lee\" in i:\n",
        "    print(i[:i.index(\"-\")])"
      ],
      "metadata": {
        "colab": {
          "base_uri": "https://localhost:8080/"
        },
        "id": "KRyAtUWudAkt",
        "outputId": "cf98217c-db42-4679-aefb-b98d28911084"
      },
      "execution_count": null,
      "outputs": [
        {
          "output_type": "stream",
          "name": "stdout",
          "text": [
            "Lee\n"
          ]
        }
      ]
    },
    {
      "cell_type": "code",
      "source": [
        "name[3][:name[3].index(\"-\")]"
      ],
      "metadata": {
        "colab": {
          "base_uri": "https://localhost:8080/",
          "height": 35
        },
        "id": "o-9wZcwPWA26",
        "outputId": "227a45c7-dc6c-49d9-bb3c-1ae6dec3d3a0"
      },
      "execution_count": null,
      "outputs": [
        {
          "output_type": "execute_result",
          "data": {
            "text/plain": [
              "'Lee'"
            ],
            "application/vnd.google.colaboratory.intrinsic+json": {
              "type": "string"
            }
          },
          "metadata": {},
          "execution_count": 14
        }
      ]
    },
    {
      "cell_type": "markdown",
      "source": [
        "##5. 하나의 폴더에 아래와 같은 형식을 가진 파일들이 있다. 이때 아래의 파일들을 file이라는 이름의 리스트로 저장하고, jpg와 png의 파일형식을 가지는 파일들만 따로 뽑아 리스트로 프린트하시오 만약에 jpg와 png파일이 아닐 경우 아래와 같이 프린트하시오.(10 점)\n",
        "- dog.png, dog2.png, dog3.jpg, test.pdf, file.py, homework.pptx, jpg.pptx, png2.pptx\n",
        "- test.pdf은 jpg, png파일에 포함되지 않습니다."
      ],
      "metadata": {
        "id": "F3rw_c_TVIT9"
      }
    },
    {
      "cell_type": "code",
      "source": [
        "file=[\"dog.png\", \"dog2.png\", \"dog3.jpg\", \"test.pdf\", \"file.py\", \"homework.pptx\", \"jpg.pptx\", \"png2.pptx\"]\n",
        "a=[]\n",
        "for i in file:\n",
        "  if \".png\" in i or \".jpg\" in i:\n",
        "    a.append(i)\n",
        "  else:\n",
        "    print((\"{}은 jpg, png파일에 포함되지 않습니다.\").format(i))\n",
        "\n",
        "print(a)"
      ],
      "metadata": {
        "colab": {
          "base_uri": "https://localhost:8080/"
        },
        "id": "XyRBPqOyWiS7",
        "outputId": "cdf833ff-18e6-4339-9cea-67306fd89390"
      },
      "execution_count": null,
      "outputs": [
        {
          "output_type": "stream",
          "name": "stdout",
          "text": [
            "test.pdf은 jpg, png파일에 포함되지 않습니다.\n",
            "file.py은 jpg, png파일에 포함되지 않습니다.\n",
            "homework.pptx은 jpg, png파일에 포함되지 않습니다.\n",
            "jpg.pptx은 jpg, png파일에 포함되지 않습니다.\n",
            "png2.pptx은 jpg, png파일에 포함되지 않습니다.\n",
            "['dog.png', 'dog2.png', 'dog3.jpg']\n"
          ]
        }
      ]
    },
    {
      "cell_type": "markdown",
      "source": [
        "##6. 아래와 같이 학생의 수를 입력했을때, 아래와 같은 결과가 나오도록 만드시오(for, if문) 사용"
      ],
      "metadata": {
        "id": "8tmOs1QbXtt7"
      }
    },
    {
      "cell_type": "code",
      "execution_count": null,
      "metadata": {
        "colab": {
          "base_uri": "https://localhost:8080/"
        },
        "id": "PGWiNvQrR8Qj",
        "outputId": "a76fd983-c8c7-4350-b1c5-dbc30827f67d"
      },
      "outputs": [
        {
          "name": "stdout",
          "output_type": "stream",
          "text": [
            "학생의 수를 입력하세요 : 5\n",
            "1번 학생의 점수를 입력하세요 : 50\n",
            "2번 학생의 점수를 입력하세요 : 60\n",
            "3번 학생의 점수를 입력하세요 : 70\n",
            "4번 학생의 점수를 입력하세요 : 80\n",
            "5번 학생의 점수를 입력하세요 : 90\n"
          ]
        }
      ],
      "source": [
        "num_students = int(input(\"학생의 수를 입력하세요 : \"))\n",
        "\n",
        "total_score = 0\n",
        "highest_score = 0\n",
        "\n",
        "for i in range(num_students):\n",
        "    score = int(input(\"{}번 학생의 점수를 입력하세요 : \".format(i + 1)))\n",
        "    total_score += score\n",
        "    if score > highest_score:\n",
        "        highest_score = score\n",
        "\n",
        "average_score = total_score / num_students"
      ]
    },
    {
      "cell_type": "code",
      "source": [
        "print(\"학생들의 점수 평균 : {:.2f}\".format(average_score))\n",
        "print(\"학생들중 최고 득점 점수 : {}\".format(highest_score))"
      ],
      "metadata": {
        "id": "uyWamQp6UulN"
      },
      "execution_count": null,
      "outputs": []
    },
    {
      "cell_type": "markdown",
      "source": [
        "##7.while문을 사용해 1부터 100까지 프린트 하시오 이때 i가 10의 배수에 해당되지 않는 값만 하나의 리스트에 저장하고 그 값들의 합을 구하시오"
      ],
      "metadata": {
        "id": "IFsyXHR1Ygvt"
      }
    },
    {
      "cell_type": "code",
      "source": [
        "i=0\n",
        "t=[]\n",
        "while i<100:\n",
        "  i+=1\n",
        "  if i%10==0:\n",
        "    continue\n",
        "  else:\n",
        "    t.append(i)"
      ],
      "metadata": {
        "id": "W_vtL-HjSLVz"
      },
      "execution_count": null,
      "outputs": []
    },
    {
      "cell_type": "code",
      "source": [],
      "metadata": {
        "id": "woLr_-mtclz7"
      },
      "execution_count": null,
      "outputs": []
    },
    {
      "cell_type": "code",
      "source": [
        "sum(t)"
      ],
      "metadata": {
        "id": "EfqT2waDSzdb",
        "colab": {
          "base_uri": "https://localhost:8080/"
        },
        "outputId": "f99dab74-6300-41d2-846e-c1b927cd8466"
      },
      "execution_count": null,
      "outputs": [
        {
          "output_type": "execute_result",
          "data": {
            "text/plain": [
              "4500"
            ]
          },
          "metadata": {},
          "execution_count": 11
        }
      ]
    },
    {
      "cell_type": "markdown",
      "source": [
        "##8.아이스크림의 이름과 가격을 딕셔너리 형태로 저장하시오\n",
        "바밤바 : 1500원, 메로나 : 1500원, 붕어싸만코 : 2000원, 월드콘 : 3000원, 투게더 : 5000원"
      ],
      "metadata": {
        "id": "iiPApDCIZcWU"
      }
    },
    {
      "cell_type": "code",
      "source": [
        "ice={\"바밤바\" : \"1500원\", \"메로나\" : \"1500원\", \"붕어싸만코\" : \"2000원\", \"월드콘\" : \"3000원\", \"투게더\" : \"5000원\"}"
      ],
      "metadata": {
        "id": "63OUgMSNZIrM"
      },
      "execution_count": null,
      "outputs": []
    },
    {
      "cell_type": "code",
      "source": [
        "ice[\"붕어싸만코\"]"
      ],
      "metadata": {
        "colab": {
          "base_uri": "https://localhost:8080/",
          "height": 35
        },
        "id": "cPO1t7fFbM6t",
        "outputId": "835d4605-e9f6-4444-96f7-51a4ac573ebe"
      },
      "execution_count": null,
      "outputs": [
        {
          "output_type": "execute_result",
          "data": {
            "text/plain": [
              "'2000원'"
            ],
            "application/vnd.google.colaboratory.intrinsic+json": {
              "type": "string"
            }
          },
          "metadata": {},
          "execution_count": 2
        }
      ]
    },
    {
      "cell_type": "code",
      "source": [
        "del ice[\"투게더\"]"
      ],
      "metadata": {
        "id": "K5vK9wmAbYXD"
      },
      "execution_count": null,
      "outputs": []
    },
    {
      "cell_type": "code",
      "source": [
        "ice[\"비비빅\"] =\"2000원\""
      ],
      "metadata": {
        "id": "biS8SVyvbbGM"
      },
      "execution_count": null,
      "outputs": []
    },
    {
      "cell_type": "code",
      "source": [
        "for i, j in ice.items():\n",
        "  print(i,j)"
      ],
      "metadata": {
        "colab": {
          "base_uri": "https://localhost:8080/"
        },
        "id": "PUbjk29PZmYr",
        "outputId": "2bd55e17-ada6-4b1c-a052-81c70f68d4e5"
      },
      "execution_count": null,
      "outputs": [
        {
          "output_type": "stream",
          "name": "stdout",
          "text": [
            "바밤바 1500원\n",
            "메로나 1500원\n",
            "붕어싸만코 2000원\n",
            "월드콘 3000원\n",
            "비비빅 2000원\n"
          ]
        }
      ]
    },
    {
      "cell_type": "code",
      "source": [
        "b=[]\n",
        "for i in ice.values():\n",
        "  t=i.replace(\"원\", \"\")\n",
        "  b.append(t)"
      ],
      "metadata": {
        "id": "lM0b0kXJZq3z"
      },
      "execution_count": null,
      "outputs": []
    },
    {
      "cell_type": "markdown",
      "source": [
        "##9. 아래와 같은 모양을 만드시오 (5점)"
      ],
      "metadata": {
        "id": "8laLc_sncm-l"
      }
    },
    {
      "cell_type": "code",
      "source": [
        "for i in range(1, 10):\n",
        "  print(\"*\"*i)"
      ],
      "metadata": {
        "id": "zysKAarqaGV0"
      },
      "execution_count": null,
      "outputs": []
    },
    {
      "cell_type": "markdown",
      "source": [
        "##10. 피타고라스의 정리를 함수로 만드시오"
      ],
      "metadata": {
        "id": "UTpu-kC7ct7j"
      }
    },
    {
      "cell_type": "code",
      "source": [
        "def calculate_hypotenuse(a, b):\n",
        "    a_square = a ** 2\n",
        "    b_square = b ** 2\n",
        "\n",
        "    hypotenuse = (a_square + b_square) ** 0.5\n",
        "\n",
        "    return hypotenuse"
      ],
      "metadata": {
        "id": "HUFasz3Actn8"
      },
      "execution_count": null,
      "outputs": []
    },
    {
      "cell_type": "code",
      "source": [],
      "metadata": {
        "id": "JMXrtSrZqPqT"
      },
      "execution_count": null,
      "outputs": []
    },
    {
      "cell_type": "code",
      "source": [],
      "metadata": {
        "id": "qnZW7A-0qPnh"
      },
      "execution_count": null,
      "outputs": []
    },
    {
      "cell_type": "code",
      "source": [],
      "metadata": {
        "id": "1RGbUwB4qPk4"
      },
      "execution_count": null,
      "outputs": []
    },
    {
      "cell_type": "code",
      "source": [],
      "metadata": {
        "id": "FIEhZipYqPiW"
      },
      "execution_count": null,
      "outputs": []
    },
    {
      "cell_type": "code",
      "source": [],
      "metadata": {
        "id": "nvZ5QQM7qPfr"
      },
      "execution_count": null,
      "outputs": []
    },
    {
      "cell_type": "code",
      "source": [],
      "metadata": {
        "id": "fsPZZDazqPdI"
      },
      "execution_count": null,
      "outputs": []
    },
    {
      "cell_type": "code",
      "source": [],
      "metadata": {
        "id": "3rgK7hhbqPaw"
      },
      "execution_count": null,
      "outputs": []
    },
    {
      "cell_type": "code",
      "source": [],
      "metadata": {
        "id": "YKo5wfrmqPYj"
      },
      "execution_count": null,
      "outputs": []
    },
    {
      "cell_type": "code",
      "source": [],
      "metadata": {
        "id": "a_xmGZ6yqPWF"
      },
      "execution_count": null,
      "outputs": []
    },
    {
      "cell_type": "code",
      "source": [],
      "metadata": {
        "id": "MA0pRqzqqPTu"
      },
      "execution_count": null,
      "outputs": []
    },
    {
      "cell_type": "code",
      "source": [],
      "metadata": {
        "id": "BTybDwTlqPRm"
      },
      "execution_count": null,
      "outputs": []
    },
    {
      "cell_type": "code",
      "source": [],
      "metadata": {
        "id": "Y-1KTnu8qPO-"
      },
      "execution_count": null,
      "outputs": []
    },
    {
      "cell_type": "code",
      "source": [
        "def greet_user(time):\n",
        "  if time >= 0 and time < 12:\n",
        "    print(\"아침입니다.\")\n",
        "  elif time >= 12 and time < 18:\n",
        "    print(\"오후 입니다.\")\n",
        "  elif time >= 18 and time <= 24:\n",
        "    print(\"저녁 입니다.\")\n",
        "  else:\n",
        "    print(\"잘못된 시간입니다.\")\n",
        "\n",
        "hour = int(input(\"시간을 입력해주세요 : \"))\n",
        "\n",
        "greet_user(hour)"
      ],
      "metadata": {
        "id": "h2b9kRuuddYc",
        "colab": {
          "base_uri": "https://localhost:8080/"
        },
        "outputId": "9ad25c37-7374-40bb-8005-306930198869"
      },
      "execution_count": null,
      "outputs": [
        {
          "output_type": "stream",
          "name": "stdout",
          "text": [
            "시간을 입력해주세요 : 20\n",
            "저녁 입니다.\n"
          ]
        }
      ]
    },
    {
      "cell_type": "code",
      "source": [],
      "metadata": {
        "id": "NGSaSSaOkx-U"
      },
      "execution_count": null,
      "outputs": []
    }
  ]
}