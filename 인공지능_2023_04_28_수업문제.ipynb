{
  "nbformat": 4,
  "nbformat_minor": 0,
  "metadata": {
    "colab": {
      "provenance": [],
      "include_colab_link": true
    },
    "kernelspec": {
      "name": "python3",
      "display_name": "Python 3"
    },
    "language_info": {
      "name": "python"
    }
  },
  "cells": [
    {
      "cell_type": "markdown",
      "metadata": {
        "id": "view-in-github",
        "colab_type": "text"
      },
      "source": [
        "<a href=\"https://colab.research.google.com/github/byunsungil/AI01/blob/main/%EC%9D%B8%EA%B3%B5%EC%A7%80%EB%8A%A5_2023_04_28_%EC%88%98%EC%97%85%EB%AC%B8%EC%A0%9C.ipynb\" target=\"_parent\"><img src=\"https://colab.research.google.com/assets/colab-badge.svg\" alt=\"Open In Colab\"/></a>"
      ]
    },
    {
      "cell_type": "markdown",
      "source": [
        "##eqtt,frs2,gee3,gh41,fb3g 의 키 값을 아래와 같이 나타내시오. (4줄로 작성)\n",
        "['키값은 : eqtt 입니다.',\n",
        " '키값은 : frs2 입니다.',\n",
        " '키값은 : gee3 입니다.',\n",
        " '키값은 : gh41 입니다.',\n",
        " '키값은 : fb3g 입니다.']"
      ],
      "metadata": {
        "id": "d5XLvNZ8orjh"
      }
    },
    {
      "cell_type": "code",
      "source": [
        "a = [\"eqtt\",\"frs2\",\"gee3\",\"gh41\",\"fb3g\"]\n",
        "b = []\n",
        "for i in a:\n",
        "  b.append(print(\"키값은 : {}\".format(i)))\n",
        "b\n",
        "\n",
        "\n",
        "\n",
        " "
      ],
      "metadata": {
        "colab": {
          "base_uri": "https://localhost:8080/"
        },
        "id": "wedf1trqn5MJ",
        "outputId": "de06af93-1e92-4ab2-a373-73af68d19a14"
      },
      "execution_count": null,
      "outputs": [
        {
          "output_type": "stream",
          "name": "stdout",
          "text": [
            "키값은 : eqtt\n",
            "키값은 : frs2\n",
            "키값은 : gee3\n",
            "키값은 : gh41\n",
            "키값은 : fb3g\n"
          ]
        },
        {
          "output_type": "execute_result",
          "data": {
            "text/plain": [
              "[None, None, None, None, None]"
            ]
          },
          "metadata": {},
          "execution_count": 24
        }
      ]
    },
    {
      "cell_type": "markdown",
      "source": [
        "##아래와 같은 결과를 만들어내시오(for문과 while문을 활용해서) 9줄 이하"
      ],
      "metadata": {
        "id": "_JlB3e3UtXQV"
      }
    },
    {
      "cell_type": "code",
      "source": [
        "a = [1,2,3,4,5,6,7]\n",
        "i = 0\n",
        "while i < 10:\n",
        "  i+=1\n",
        "  print(\"---{}번째---\".format(i))\n",
        "  for n in range(1,6):\n",
        "    print(\"{}번째 시도\".format(n))\n",
        "  if i > len(a)-1:\n",
        "    break\n"
      ],
      "metadata": {
        "colab": {
          "base_uri": "https://localhost:8080/"
        },
        "id": "GvViAYHbsGI-",
        "outputId": "1196c84f-1f8f-4922-a60b-c25dda022241"
      },
      "execution_count": null,
      "outputs": [
        {
          "output_type": "stream",
          "name": "stdout",
          "text": [
            "---1번째---\n",
            "1번째 시도\n",
            "2번째 시도\n",
            "3번째 시도\n",
            "4번째 시도\n",
            "5번째 시도\n",
            "---2번째---\n",
            "1번째 시도\n",
            "2번째 시도\n",
            "3번째 시도\n",
            "4번째 시도\n",
            "5번째 시도\n",
            "---3번째---\n",
            "1번째 시도\n",
            "2번째 시도\n",
            "3번째 시도\n",
            "4번째 시도\n",
            "5번째 시도\n",
            "---4번째---\n",
            "1번째 시도\n",
            "2번째 시도\n",
            "3번째 시도\n",
            "4번째 시도\n",
            "5번째 시도\n",
            "---5번째---\n",
            "1번째 시도\n",
            "2번째 시도\n",
            "3번째 시도\n",
            "4번째 시도\n",
            "5번째 시도\n",
            "---6번째---\n",
            "1번째 시도\n",
            "2번째 시도\n",
            "3번째 시도\n",
            "4번째 시도\n",
            "5번째 시도\n",
            "---7번째---\n",
            "1번째 시도\n",
            "2번째 시도\n",
            "3번째 시도\n",
            "4번째 시도\n",
            "5번째 시도\n"
          ]
        }
      ]
    },
    {
      "cell_type": "code",
      "source": [],
      "metadata": {
        "id": "tROc61iGoEPw"
      },
      "execution_count": null,
      "outputs": []
    }
  ]
}